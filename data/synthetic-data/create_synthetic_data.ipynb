{
 "cells": [
  {
   "cell_type": "code",
   "execution_count": 1,
   "metadata": {
    "collapsed": true,
    "ExecuteTime": {
     "end_time": "2025-02-12T19:33:04.678559Z",
     "start_time": "2025-02-12T19:33:02.175382Z"
    }
   },
   "outputs": [],
   "source": [
    "import joblib\n",
    "import numpy as np\n",
    "import pandas as pd\n",
    "from interpret.glassbox import ExplainableBoostingRegressor, ExplainableBoostingClassifier\n",
    "from sklearn.model_selection import train_test_split\n",
    "from interpret import show\n",
    "\n",
    "np.random.seed(42)\n",
    "seed = 42\n",
    "n_samples = 1000"
   ]
  },
  {
   "cell_type": "markdown",
   "source": [
    "***Regression Dataset: Life Expectancy***"
   ],
   "metadata": {
    "collapsed": false
   }
  },
  {
   "cell_type": "code",
   "execution_count": 5,
   "outputs": [
    {
     "name": "stdout",
     "output_type": "stream",
     "text": [
      "   Cigarettes per Day  Age Diet Quality  Life Expectancy\n",
      "0                   1   58         Poor             70.6\n",
      "1                   7   71         Poor             72.7\n",
      "2                   6   48      Average             81.6\n",
      "3                   1   34      Average             80.8\n",
      "4                   2   62      Average             73.4\n"
     ]
    }
   ],
   "source": [
    "# Generate synthetic feature data\n",
    "age = np.random.randint(20, 80, size=n_samples)  # Age between 20 and 80\n",
    "smoking_habits = np.random.randint(0, 21, size=n_samples)  # Cigarettes per day (0 to 20)\n",
    "\n",
    "# Define a categorical feature: Diet Quality\n",
    "# Diet Quality has three categories: \"Poor\", \"Average\", \"Excellent\"\n",
    "diet_quality = np.random.choice(['Poor', 'Average', 'Excellent'], size=n_samples, p=[0.3, 0.5, 0.2])\n",
    "\n",
    "# Convert diet_quality to a pandas Series to use map function\n",
    "diet_quality_series = pd.Series(diet_quality)\n",
    "\n",
    "# Assign an impact on life expectancy for each diet quality category\n",
    "diet_impact = {\n",
    "    'Poor': -3,          # Negative impact\n",
    "    'Average': 0,        # No impact\n",
    "    'Excellent': 3       # Positive impact\n",
    "}\n",
    "\n",
    "# Define a life expectancy formula with domain knowledge flaw\n",
    "# Normally: Life expectancy decreases with age and smoking, and increases with exercise\n",
    "# Flaw: Smoking falsely increases life expectancy\n",
    "life_expectancy = (\n",
    "    90 - 0.3 * age              # Age decreases life expectancy\n",
    "    + 1 * smoking_habits        # Domain flaw: Smoking falsely increases life expectancy\n",
    "    + diet_quality_series.map(diet_impact)  # Apply impact based on diet quality\n",
    ")\n",
    "\n",
    "# Create a DataFrame\n",
    "data_reg = pd.DataFrame({\n",
    "    'Cigarettes per Day': smoking_habits,\n",
    "    'Age': age,\n",
    "    'Diet Quality': diet_quality,\n",
    "    'Life Expectancy': life_expectancy\n",
    "})\n",
    "\n",
    "# Display the first few rows of the dataset\n",
    "print(data_reg.head())\n",
    "\n",
    "# Optionally save the dataset to a CSV file\n",
    "# data_reg.to_csv(\"synthetic_life_expectancy_with_age_and_diet.csv\", index=False)\n"
   ],
   "metadata": {
    "collapsed": false,
    "ExecuteTime": {
     "end_time": "2025-01-23T14:18:37.273020Z",
     "start_time": "2025-01-23T14:18:37.251425Z"
    }
   }
  },
  {
   "cell_type": "code",
   "execution_count": 6,
   "outputs": [
    {
     "data": {
      "text/html": "<!-- http://127.0.0.1:7001/140238617134992/ -->\n<iframe src=\"http://127.0.0.1:7001/140238617134992/\" width=100% height=800 frameBorder=\"0\"></iframe>"
     },
     "metadata": {},
     "output_type": "display_data"
    }
   ],
   "source": [
    "data = pd.read_csv(\"synthetic_life_expectancy.csv\")\n",
    "X = data[[\"Cigarettes per Day\", \"Age\", \"Diet Quality\"]]\n",
    "y = data[\"Life Expectancy\"]\n",
    "X_train, X_test, y_train, y_test = train_test_split(X, y, test_size=0.2, random_state=seed)\n",
    "\n",
    "# Combine the train and test sets into single DataFrames with features and target\n",
    "train_data = X_train.copy()\n",
    "train_data[\"Life Expectancy\"] = y_train\n",
    "\n",
    "test_data = X_test.copy()\n",
    "test_data[\"Life Expectancy\"] = y_test\n",
    "\n",
    "# Save the train and test datasets as CSV files\n",
    "#train_data.to_csv(\"train_dataset.csv\", index=False)\n",
    "#test_data.to_csv(\"test_dataset.csv\", index=False)\n",
    "\n",
    "ebm_reg = ExplainableBoostingRegressor(random_state=seed, n_jobs=1)\n",
    "ebm_reg.fit(X_train, y_train)\n",
    "show(ebm_reg.explain_global())\n",
    "\n",
    "# joblib.dump(ebm_reg, \"trained_ebm.pkl\")"
   ],
   "metadata": {
    "collapsed": false,
    "ExecuteTime": {
     "end_time": "2025-01-23T14:20:39.431034Z",
     "start_time": "2025-01-23T14:18:45.531059Z"
    }
   }
  },
  {
   "cell_type": "markdown",
   "source": [
    "***Binary Classification Dataset: Loan Approval***"
   ],
   "metadata": {
    "collapsed": false
   }
  },
  {
   "cell_type": "code",
   "execution_count": 7,
   "outputs": [
    {
     "name": "stdout",
     "output_type": "stream",
     "text": [
      "   Credit Score  Annual Income  Years of Employment  Loan Approved\n",
      "0           633         176470                    5              0\n",
      "1           521          55842                    9              0\n",
      "2           340          33261                   17              0\n",
      "3           367          96709                   14              1\n",
      "4           813         115985                    7              0\n"
     ]
    }
   ],
   "source": [
    "# Binary Classification: Loan Approval\n",
    "\n",
    "# Generate synthetic feature data\n",
    "credit_score = np.random.randint(300, 850, size=n_samples)  # Credit score between 300 and 850\n",
    "annual_income = np.random.randint(20000, 200000, size=n_samples)  # Annual income between $20,000 and $200,000\n",
    "years_of_employment = np.random.randint(0, 30, size=n_samples)  # Years of employment (0 to 30)\n",
    "\n",
    "# Define the loan approval formula with a domain knowledge flaw\n",
    "# Normally: Credit score increases chances of approval, higher income increases chances, more years of employment increase approval chances\n",
    "# Flaw: Higher credit scores falsely decrease loan approval chances\n",
    "loan_approval_score = (\n",
    "    -0.01 * credit_score            # Domain flaw: Higher credit scores falsely reduce loan approval chances\n",
    "    + 0.00005 * annual_income        # Higher income correctly increases loan approval chances\n",
    "    + 0.5 * years_of_employment      # More years of employment increase loan approval chances\n",
    ")\n",
    "\n",
    "# Convert loan approval score into binary target (loan approved or not)\n",
    "# Apply a threshold to decide approval\n",
    "threshold = loan_approval_score.mean()\n",
    "loan_approved = (loan_approval_score >= threshold).astype(int) #1 = approved, 0 = denied\n",
    "\n",
    "# Create a DataFrame\n",
    "data_class = pd.DataFrame({\n",
    "    'Credit Score': credit_score,\n",
    "    'Annual Income': annual_income,\n",
    "    'Years of Employment': years_of_employment,\n",
    "    'Loan Approved': loan_approved\n",
    "})\n",
    "\n",
    "# Display the first few rows of the dataset\n",
    "print(data_class.head())\n",
    "\n",
    "# Optionally save the dataset to a CSV file\n",
    "data_class.to_csv('synthetic_loan_data.csv', index=False)\n"
   ],
   "metadata": {
    "collapsed": false,
    "ExecuteTime": {
     "end_time": "2025-02-12T19:49:07.584227Z",
     "start_time": "2025-02-12T19:49:07.563764Z"
    }
   }
  },
  {
   "cell_type": "code",
   "execution_count": 8,
   "outputs": [
    {
     "data": {
      "text/html": "<!-- http://127.0.0.1:7001/140249743525152/ -->\n<iframe src=\"http://127.0.0.1:7001/140249743525152/\" width=100% height=800 frameBorder=\"0\"></iframe>"
     },
     "metadata": {},
     "output_type": "display_data"
    },
    {
     "data": {
      "text/plain": "['ebm_loan.pkl']"
     },
     "execution_count": 8,
     "metadata": {},
     "output_type": "execute_result"
    }
   ],
   "source": [
    "data = pd.read_csv(\"synthetic_loan_data.csv\")\n",
    "X = data[[\"Credit Score\", \"Annual Income\", \"Years of Employment\"]]\n",
    "y = data[\"Loan Approved\"]\n",
    "X_train, X_test, y_train, y_test = train_test_split(X, y, test_size=0.2, random_state=seed)\n",
    "\n",
    "# Combine the train and test sets into single DataFrames with features and target\n",
    "train_data = X_train.copy()\n",
    "train_data[\"Life Expectancy\"] = y_train\n",
    "\n",
    "test_data = X_test.copy()\n",
    "test_data[\"Life Expectancy\"] = y_test\n",
    "\n",
    "# Save the train and test datasets as CSV files\n",
    "#train_data.to_csv(\"loan_train_dataset.csv\", index=False)\n",
    "#test_data.to_csv(\"loan_test_dataset.csv\", index=False)\n",
    "\n",
    "ebm_loan = ExplainableBoostingRegressor(random_state=seed, n_jobs=1)\n",
    "ebm_loan.fit(X_train, y_train)\n",
    "show(ebm_loan.explain_global())\n",
    "\n",
    "# joblib.dump(ebm_loan, \"ebm_loan.pkl\")"
   ],
   "metadata": {
    "collapsed": false,
    "ExecuteTime": {
     "end_time": "2025-02-12T19:49:31.313324Z",
     "start_time": "2025-02-12T19:49:24.858881Z"
    }
   }
  },
  {
   "cell_type": "code",
   "execution_count": null,
   "outputs": [],
   "source": [],
   "metadata": {
    "collapsed": false
   }
  }
 ],
 "metadata": {
  "kernelspec": {
   "display_name": "Python 3",
   "language": "python",
   "name": "python3"
  },
  "language_info": {
   "codemirror_mode": {
    "name": "ipython",
    "version": 2
   },
   "file_extension": ".py",
   "mimetype": "text/x-python",
   "name": "python",
   "nbconvert_exporter": "python",
   "pygments_lexer": "ipython2",
   "version": "2.7.6"
  }
 },
 "nbformat": 4,
 "nbformat_minor": 0
}
