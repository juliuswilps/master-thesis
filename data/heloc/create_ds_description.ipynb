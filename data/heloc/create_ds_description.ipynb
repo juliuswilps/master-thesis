{
 "cells": [
  {
   "cell_type": "markdown",
   "source": [
    "***Description from IGANN Appendix***"
   ],
   "metadata": {
    "collapsed": false
   }
  },
  {
   "cell_type": "code",
   "execution_count": 2,
   "outputs": [],
   "source": [
    "description = {\n",
    "    \"Column Name\": [\n",
    "        \"ExternalRiskEstimate\",\n",
    "        \"MSinceOldestTradeOpen\",\n",
    "        \"AverageMInFile\",\n",
    "        \"NumSatisfactoryTrades\",\n",
    "        \"PercentTradesNeverDelq\",\n",
    "        \"MSinceMostRecentDelq\",\n",
    "        \"PercentInstallTrades\",\n",
    "        \"MSinceMostRecentInqexcl7days\",\n",
    "        \"NetFractionRevolvingBurden\",\n",
    "        \"NumRevolvingTradesWBalance\",\n",
    "        \"RiskPerformance\"\n",
    "    ],\n",
    "    \"Description\": [\n",
    "        \"Consolidated version of risk markers\",\n",
    "        \"Months since oldest trade open\",\n",
    "        \"Average months in file\",\n",
    "        \"Number of satisfactory trades\",\n",
    "        \"Percentage of trades never delinquent\",\n",
    "        \"Months since most recent delinquency\",\n",
    "        \"Percentage of installment trades\",\n",
    "        \"Months since most recent inquiry excl. 7 days\",\n",
    "        \"Net fraction revolving burden (= revolving balance divided by credit limit)\",\n",
    "        \"Number of revolving trades with balance\",\n",
    "        'Paid as negotiated flag (12-36 Months). String of “good” and “bad”'\n",
    "    ],\n",
    "    \"Feature Type\": [\"Continuous\", \"Continuous\", \"Continuous\", \"Continuous\", \"Continuous\", \"Continuous\", \"Continuous\", \"Continuous\", \"Continuous\", \"Continuous\", \"Categorical\"],\n",
    "    \"Values\": [[33, 94], [2, 803], [0, 383], [0, 79], [0, 100], [0, 83], [0, 100], [0, 24], [0, 232], [0, 32], {0, 1}],\n",
    "    \"Role\": [\"Predictor\", \"Predictor\", \"Predictor\", \"Predictor\", \"Predictor\", \"Predictor\", \"Predictor\", \"Predictor\", \"Predictor\", \"Predictor\", \"Target\"]\n",
    "}"
   ],
   "metadata": {
    "collapsed": false,
    "ExecuteTime": {
     "end_time": "2025-01-23T13:00:34.768969Z",
     "start_time": "2025-01-23T13:00:34.763292Z"
    }
   }
  },
  {
   "cell_type": "code",
   "execution_count": 3,
   "outputs": [
    {
     "data": {
      "text/plain": "                     Column Name  \\\n0           ExternalRiskEstimate   \n1          MSinceOldestTradeOpen   \n2                 AverageMInFile   \n3          NumSatisfactoryTrades   \n4         PercentTradesNeverDelq   \n5           MSinceMostRecentDelq   \n6           PercentInstallTrades   \n7   MSinceMostRecentInqexcl7days   \n8     NetFractionRevolvingBurden   \n9     NumRevolvingTradesWBalance   \n10               RiskPerformance   \n\n                                          Description Feature Type    Values  \\\n0                Consolidated version of risk markers   Continuous  [33, 94]   \n1                      Months since oldest trade open   Continuous  [2, 803]   \n2                              Average months in file   Continuous  [0, 383]   \n3                       Number of satisfactory trades   Continuous   [0, 79]   \n4               Percentage of trades never delinquent   Continuous  [0, 100]   \n5                Months since most recent delinquency   Continuous   [0, 83]   \n6                    Percentage of installment trades   Continuous  [0, 100]   \n7       Months since most recent inquiry excl. 7 days   Continuous   [0, 24]   \n8   Net fraction revolving burden (= revolving bal...   Continuous  [0, 232]   \n9             Number of revolving trades with balance   Continuous   [0, 32]   \n10  Paid as negotiated flag (12-36 Months). String...  Categorical    {0, 1}   \n\n         Role  \n0   Predictor  \n1   Predictor  \n2   Predictor  \n3   Predictor  \n4   Predictor  \n5   Predictor  \n6   Predictor  \n7   Predictor  \n8   Predictor  \n9   Predictor  \n10     Target  ",
      "text/html": "<div>\n<style scoped>\n    .dataframe tbody tr th:only-of-type {\n        vertical-align: middle;\n    }\n\n    .dataframe tbody tr th {\n        vertical-align: top;\n    }\n\n    .dataframe thead th {\n        text-align: right;\n    }\n</style>\n<table border=\"1\" class=\"dataframe\">\n  <thead>\n    <tr style=\"text-align: right;\">\n      <th></th>\n      <th>Column Name</th>\n      <th>Description</th>\n      <th>Feature Type</th>\n      <th>Values</th>\n      <th>Role</th>\n    </tr>\n  </thead>\n  <tbody>\n    <tr>\n      <th>0</th>\n      <td>ExternalRiskEstimate</td>\n      <td>Consolidated version of risk markers</td>\n      <td>Continuous</td>\n      <td>[33, 94]</td>\n      <td>Predictor</td>\n    </tr>\n    <tr>\n      <th>1</th>\n      <td>MSinceOldestTradeOpen</td>\n      <td>Months since oldest trade open</td>\n      <td>Continuous</td>\n      <td>[2, 803]</td>\n      <td>Predictor</td>\n    </tr>\n    <tr>\n      <th>2</th>\n      <td>AverageMInFile</td>\n      <td>Average months in file</td>\n      <td>Continuous</td>\n      <td>[0, 383]</td>\n      <td>Predictor</td>\n    </tr>\n    <tr>\n      <th>3</th>\n      <td>NumSatisfactoryTrades</td>\n      <td>Number of satisfactory trades</td>\n      <td>Continuous</td>\n      <td>[0, 79]</td>\n      <td>Predictor</td>\n    </tr>\n    <tr>\n      <th>4</th>\n      <td>PercentTradesNeverDelq</td>\n      <td>Percentage of trades never delinquent</td>\n      <td>Continuous</td>\n      <td>[0, 100]</td>\n      <td>Predictor</td>\n    </tr>\n    <tr>\n      <th>5</th>\n      <td>MSinceMostRecentDelq</td>\n      <td>Months since most recent delinquency</td>\n      <td>Continuous</td>\n      <td>[0, 83]</td>\n      <td>Predictor</td>\n    </tr>\n    <tr>\n      <th>6</th>\n      <td>PercentInstallTrades</td>\n      <td>Percentage of installment trades</td>\n      <td>Continuous</td>\n      <td>[0, 100]</td>\n      <td>Predictor</td>\n    </tr>\n    <tr>\n      <th>7</th>\n      <td>MSinceMostRecentInqexcl7days</td>\n      <td>Months since most recent inquiry excl. 7 days</td>\n      <td>Continuous</td>\n      <td>[0, 24]</td>\n      <td>Predictor</td>\n    </tr>\n    <tr>\n      <th>8</th>\n      <td>NetFractionRevolvingBurden</td>\n      <td>Net fraction revolving burden (= revolving bal...</td>\n      <td>Continuous</td>\n      <td>[0, 232]</td>\n      <td>Predictor</td>\n    </tr>\n    <tr>\n      <th>9</th>\n      <td>NumRevolvingTradesWBalance</td>\n      <td>Number of revolving trades with balance</td>\n      <td>Continuous</td>\n      <td>[0, 32]</td>\n      <td>Predictor</td>\n    </tr>\n    <tr>\n      <th>10</th>\n      <td>RiskPerformance</td>\n      <td>Paid as negotiated flag (12-36 Months). String...</td>\n      <td>Categorical</td>\n      <td>{0, 1}</td>\n      <td>Target</td>\n    </tr>\n  </tbody>\n</table>\n</div>"
     },
     "execution_count": 3,
     "metadata": {},
     "output_type": "execute_result"
    }
   ],
   "source": [
    "import pandas as pd\n",
    "df = pd.DataFrame().from_dict(description)\n",
    "# df.to_csv(\"ds_description.csv\", index=False)\n",
    "# df = pd.read_csv(\"ds_description.csv\")\n",
    "df"
   ],
   "metadata": {
    "collapsed": false,
    "ExecuteTime": {
     "end_time": "2025-01-23T13:00:41.128382Z",
     "start_time": "2025-01-23T13:00:41.110183Z"
    }
   }
  }
 ],
 "metadata": {
  "kernelspec": {
   "display_name": "Python 3",
   "language": "python",
   "name": "python3"
  },
  "language_info": {
   "codemirror_mode": {
    "name": "ipython",
    "version": 2
   },
   "file_extension": ".py",
   "mimetype": "text/x-python",
   "name": "python",
   "nbconvert_exporter": "python",
   "pygments_lexer": "ipython2",
   "version": "2.7.6"
  }
 },
 "nbformat": 4,
 "nbformat_minor": 0
}
