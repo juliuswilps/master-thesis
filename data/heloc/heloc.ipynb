{
 "cells": [
  {
   "cell_type": "markdown",
   "source": [
    "Used in IGANN Paper (Case Study 2)\n",
    "\n",
    "See IGANN Appendix i:\n",
    "\"The dataset is taken from the FICO Explainable Machine Learning Challenge15. It contains 10,459 samples with 21 continuous features, two categorical features, and a binary target variable stating whether or not an individual defaulted on the loan\"\n",
    "\n",
    "Appendix also highlights preprocessing (keep only 10 features + target)\n",
    "\n",
    "Link: https://www.kaggle.com/datasets/averkiyoliabev/home-equity-line-of-creditheloc\n",
    "\n",
    "Alternatives: GAM Coach User Study (eg German Credit)"
   ],
   "metadata": {
    "collapsed": false
   }
  },
  {
   "cell_type": "markdown",
   "source": [
    "Model trained on raw dataset\n",
    "\n",
    "***GPT Analysis of \"MSinceMostRecentDelq (index = 8)***\n",
    "\n",
    "The feature **MSinceMostRecentDelq** (Months Since Most Recent Delinquency) reflects how long it has been since the borrower was last delinquent on a payment. In the context of loan approval, a higher value typically indicates more time has passed since the last delinquency, which is generally seen as a positive sign.\n",
    "\n",
    "Key domain knowledge contradictions in the shape function:\n",
    "\n",
    "1. **Negative values for recent delinquencies**: For values close to zero (e.g., the range \"(-9.0, -7.5)\" to \"(2.5, 5.5)\"), the function returns negative contributions, which is expected, as recent delinquencies are risky. However, the contributions get **worse** as delinquency becomes more recent, reaching a minimum at \"(-9.0, -7.5)\", which is inconsistent with the fact that it would be impossible to have a delinquency 9 months in the future.\n",
    "\n",
    "2. **Improving outcomes with very high values**: The contributions for MSinceMostRecentDelq increase significantly after 20 months (e.g., ranges like \"(30.5, 31.5)\" or higher). While it makes sense that outcomes improve with more time since the last delinquency, the large positive values beyond 60 months seem unrealistic. The shape function suggests **extreme optimism** for borrowers who have not had a delinquency for several years, even though such borrowers might still have other risk factors.\n",
    "\n",
    "3. **Inconsistent pattern near 70 months**: After 70 months, the contribution suddenly **drops** (e.g., \"(65.5, 66.5)\" to \"(73.5, 74.5)\"). This contradicts the expectation that as time since the last delinquency increases, the likelihood of loan repayment should consistently improve. This drop could indicate a flaw in the data or model.\n",
    "\n",
    "In summary, the model suggests extreme penalties for very recent delinquencies (including impossible values) and overly optimistic predictions for very old delinquencies. Additionally, the drop near 70 months is unexpected."
   ],
   "metadata": {
    "collapsed": false
   }
  },
  {
   "cell_type": "code",
   "execution_count": 2,
   "outputs": [],
   "source": [
    "import igann_helpers\n",
    "dataset = igann_helpers.load_fico_data()\n",
    "X_df = dataset[\"full\"][\"X\"]\n",
    "X_df[\"RiskPerformance\"] = dataset[\"full\"][\"y\"]\n",
    "\n",
    "# X_df.to_csv(\"heloc_preprocessed.csv\", index=False)"
   ],
   "metadata": {
    "collapsed": false,
    "ExecuteTime": {
     "end_time": "2025-01-23T13:10:57.434976Z",
     "start_time": "2025-01-23T13:10:56.570728Z"
    }
   }
  },
  {
   "cell_type": "code",
   "execution_count": 8,
   "outputs": [
    {
     "data": {
      "text/plain": "       ExternalRiskEstimate  MSinceOldestTradeOpen  AverageMInFile  \\\n0                      55.0                  144.0            84.0   \n1                      61.0                   58.0            41.0   \n2                      67.0                   66.0            24.0   \n3                      66.0                  169.0            73.0   \n4                      81.0                  333.0           132.0   \n...                     ...                    ...             ...   \n10454                  73.0                  131.0            57.0   \n10455                  65.0                  147.0            68.0   \n10456                  74.0                  129.0            64.0   \n10457                  72.0                  234.0           113.0   \n10458                  66.0                   28.0            17.0   \n\n       NumSatisfactoryTrades  PercentTradesNeverDelq  MSinceMostRecentDelq  \\\n0                       20.0                    83.0              2.000000   \n1                        2.0                   100.0             21.879547   \n2                        9.0                   100.0             21.879547   \n3                       28.0                    93.0             76.000000   \n4                       12.0                   100.0             21.879547   \n...                      ...                     ...                   ...   \n10454                   21.0                    95.0             80.000000   \n10455                   11.0                    92.0             28.000000   \n10456                   18.0                   100.0             21.879547   \n10457                   42.0                    96.0             35.000000   \n10458                    4.0                   100.0             21.879547   \n\n       PercentInstallTrades  MSinceMostRecentInqexcl7days  \\\n0                      43.0                           0.0   \n1                      67.0                           0.0   \n2                      44.0                           0.0   \n3                      57.0                           0.0   \n4                      25.0                           0.0   \n...                     ...                           ...   \n10454                  19.0                           7.0   \n10455                  42.0                           1.0   \n10456                  33.0                           3.0   \n10457                  20.0                           6.0   \n10458                  60.0                           3.0   \n\n       NetFractionRevolvingBurden  NumRevolvingTradesWBalance  RiskPerformance  \n0                            33.0                         8.0                0  \n1                             0.0                         0.0                0  \n2                            53.0                         4.0                0  \n3                            72.0                         6.0                0  \n4                            51.0                         3.0                0  \n...                           ...                         ...              ...  \n10454                        26.0                         5.0                1  \n10455                        86.0                         2.0                0  \n10456                         6.0                         5.0                0  \n10457                        19.0                         4.0                0  \n10458                        67.0                         2.0                0  \n\n[10459 rows x 11 columns]",
      "text/html": "<div>\n<style scoped>\n    .dataframe tbody tr th:only-of-type {\n        vertical-align: middle;\n    }\n\n    .dataframe tbody tr th {\n        vertical-align: top;\n    }\n\n    .dataframe thead th {\n        text-align: right;\n    }\n</style>\n<table border=\"1\" class=\"dataframe\">\n  <thead>\n    <tr style=\"text-align: right;\">\n      <th></th>\n      <th>ExternalRiskEstimate</th>\n      <th>MSinceOldestTradeOpen</th>\n      <th>AverageMInFile</th>\n      <th>NumSatisfactoryTrades</th>\n      <th>PercentTradesNeverDelq</th>\n      <th>MSinceMostRecentDelq</th>\n      <th>PercentInstallTrades</th>\n      <th>MSinceMostRecentInqexcl7days</th>\n      <th>NetFractionRevolvingBurden</th>\n      <th>NumRevolvingTradesWBalance</th>\n      <th>RiskPerformance</th>\n    </tr>\n  </thead>\n  <tbody>\n    <tr>\n      <th>0</th>\n      <td>55.0</td>\n      <td>144.0</td>\n      <td>84.0</td>\n      <td>20.0</td>\n      <td>83.0</td>\n      <td>2.000000</td>\n      <td>43.0</td>\n      <td>0.0</td>\n      <td>33.0</td>\n      <td>8.0</td>\n      <td>0</td>\n    </tr>\n    <tr>\n      <th>1</th>\n      <td>61.0</td>\n      <td>58.0</td>\n      <td>41.0</td>\n      <td>2.0</td>\n      <td>100.0</td>\n      <td>21.879547</td>\n      <td>67.0</td>\n      <td>0.0</td>\n      <td>0.0</td>\n      <td>0.0</td>\n      <td>0</td>\n    </tr>\n    <tr>\n      <th>2</th>\n      <td>67.0</td>\n      <td>66.0</td>\n      <td>24.0</td>\n      <td>9.0</td>\n      <td>100.0</td>\n      <td>21.879547</td>\n      <td>44.0</td>\n      <td>0.0</td>\n      <td>53.0</td>\n      <td>4.0</td>\n      <td>0</td>\n    </tr>\n    <tr>\n      <th>3</th>\n      <td>66.0</td>\n      <td>169.0</td>\n      <td>73.0</td>\n      <td>28.0</td>\n      <td>93.0</td>\n      <td>76.000000</td>\n      <td>57.0</td>\n      <td>0.0</td>\n      <td>72.0</td>\n      <td>6.0</td>\n      <td>0</td>\n    </tr>\n    <tr>\n      <th>4</th>\n      <td>81.0</td>\n      <td>333.0</td>\n      <td>132.0</td>\n      <td>12.0</td>\n      <td>100.0</td>\n      <td>21.879547</td>\n      <td>25.0</td>\n      <td>0.0</td>\n      <td>51.0</td>\n      <td>3.0</td>\n      <td>0</td>\n    </tr>\n    <tr>\n      <th>...</th>\n      <td>...</td>\n      <td>...</td>\n      <td>...</td>\n      <td>...</td>\n      <td>...</td>\n      <td>...</td>\n      <td>...</td>\n      <td>...</td>\n      <td>...</td>\n      <td>...</td>\n      <td>...</td>\n    </tr>\n    <tr>\n      <th>10454</th>\n      <td>73.0</td>\n      <td>131.0</td>\n      <td>57.0</td>\n      <td>21.0</td>\n      <td>95.0</td>\n      <td>80.000000</td>\n      <td>19.0</td>\n      <td>7.0</td>\n      <td>26.0</td>\n      <td>5.0</td>\n      <td>1</td>\n    </tr>\n    <tr>\n      <th>10455</th>\n      <td>65.0</td>\n      <td>147.0</td>\n      <td>68.0</td>\n      <td>11.0</td>\n      <td>92.0</td>\n      <td>28.000000</td>\n      <td>42.0</td>\n      <td>1.0</td>\n      <td>86.0</td>\n      <td>2.0</td>\n      <td>0</td>\n    </tr>\n    <tr>\n      <th>10456</th>\n      <td>74.0</td>\n      <td>129.0</td>\n      <td>64.0</td>\n      <td>18.0</td>\n      <td>100.0</td>\n      <td>21.879547</td>\n      <td>33.0</td>\n      <td>3.0</td>\n      <td>6.0</td>\n      <td>5.0</td>\n      <td>0</td>\n    </tr>\n    <tr>\n      <th>10457</th>\n      <td>72.0</td>\n      <td>234.0</td>\n      <td>113.0</td>\n      <td>42.0</td>\n      <td>96.0</td>\n      <td>35.000000</td>\n      <td>20.0</td>\n      <td>6.0</td>\n      <td>19.0</td>\n      <td>4.0</td>\n      <td>0</td>\n    </tr>\n    <tr>\n      <th>10458</th>\n      <td>66.0</td>\n      <td>28.0</td>\n      <td>17.0</td>\n      <td>4.0</td>\n      <td>100.0</td>\n      <td>21.879547</td>\n      <td>60.0</td>\n      <td>3.0</td>\n      <td>67.0</td>\n      <td>2.0</td>\n      <td>0</td>\n    </tr>\n  </tbody>\n</table>\n<p>10459 rows × 11 columns</p>\n</div>"
     },
     "execution_count": 8,
     "metadata": {},
     "output_type": "execute_result"
    }
   ],
   "source": [
    "import pandas as pd\n",
    "\n",
    "df = pd.read_csv(\"heloc_preprocessed.csv\")\n",
    "df"
   ],
   "metadata": {
    "collapsed": false,
    "ExecuteTime": {
     "end_time": "2025-01-23T11:10:08.643963Z",
     "start_time": "2025-01-23T11:10:08.607692Z"
    }
   }
  },
  {
   "cell_type": "code",
   "execution_count": 1,
   "outputs": [
    {
     "data": {
      "text/plain": "                     Column Name  \\\n0           ExternalRiskEstimate   \n1          MSinceOldestTradeOpen   \n2                 AverageMInFile   \n3          NumSatisfactoryTrades   \n4         PercentTradesNeverDelq   \n5           MSinceMostRecentDelq   \n6           PercentInstallTrades   \n7   MSinceMostRecentInqexcl7days   \n8     NetFractionRevolvingBurden   \n9     NumRevolvingTradesWBalance   \n10               RiskPerformance   \n\n                                          Description Feature Type    Values  \\\n0                Consolidated version of risk markers   Continuous  [33, 94]   \n1                      Months since oldest trade open   Continuous  [2, 803]   \n2                              Average months in file   Continuous  [0, 383]   \n3                       Number of satisfactory trades   Continuous   [0, 79]   \n4               Percentage of trades never delinquent   Continuous  [0, 100]   \n5                Months since most recent delinquency   Continuous   [0, 83]   \n6                    Percentage of installment trades   Continuous  [0, 100]   \n7       Months since most recent inquiry excl. 7 days   Continuous   [0, 24]   \n8   Net fraction revolving burden (= revolving bal...   Continuous  [0, 232]   \n9             Number of revolving trades with balance   Continuous   [0, 32]   \n10  Paid as negotiated flag (12-36 Months). String...  Categorical    {0, 1}   \n\n         Role  \n0   Predictor  \n1   Predictor  \n2   Predictor  \n3   Predictor  \n4   Predictor  \n5   Predictor  \n6   Predictor  \n7   Predictor  \n8   Predictor  \n9   Predictor  \n10     Target  ",
      "text/html": "<div>\n<style scoped>\n    .dataframe tbody tr th:only-of-type {\n        vertical-align: middle;\n    }\n\n    .dataframe tbody tr th {\n        vertical-align: top;\n    }\n\n    .dataframe thead th {\n        text-align: right;\n    }\n</style>\n<table border=\"1\" class=\"dataframe\">\n  <thead>\n    <tr style=\"text-align: right;\">\n      <th></th>\n      <th>Column Name</th>\n      <th>Description</th>\n      <th>Feature Type</th>\n      <th>Values</th>\n      <th>Role</th>\n    </tr>\n  </thead>\n  <tbody>\n    <tr>\n      <th>0</th>\n      <td>ExternalRiskEstimate</td>\n      <td>Consolidated version of risk markers</td>\n      <td>Continuous</td>\n      <td>[33, 94]</td>\n      <td>Predictor</td>\n    </tr>\n    <tr>\n      <th>1</th>\n      <td>MSinceOldestTradeOpen</td>\n      <td>Months since oldest trade open</td>\n      <td>Continuous</td>\n      <td>[2, 803]</td>\n      <td>Predictor</td>\n    </tr>\n    <tr>\n      <th>2</th>\n      <td>AverageMInFile</td>\n      <td>Average months in file</td>\n      <td>Continuous</td>\n      <td>[0, 383]</td>\n      <td>Predictor</td>\n    </tr>\n    <tr>\n      <th>3</th>\n      <td>NumSatisfactoryTrades</td>\n      <td>Number of satisfactory trades</td>\n      <td>Continuous</td>\n      <td>[0, 79]</td>\n      <td>Predictor</td>\n    </tr>\n    <tr>\n      <th>4</th>\n      <td>PercentTradesNeverDelq</td>\n      <td>Percentage of trades never delinquent</td>\n      <td>Continuous</td>\n      <td>[0, 100]</td>\n      <td>Predictor</td>\n    </tr>\n    <tr>\n      <th>5</th>\n      <td>MSinceMostRecentDelq</td>\n      <td>Months since most recent delinquency</td>\n      <td>Continuous</td>\n      <td>[0, 83]</td>\n      <td>Predictor</td>\n    </tr>\n    <tr>\n      <th>6</th>\n      <td>PercentInstallTrades</td>\n      <td>Percentage of installment trades</td>\n      <td>Continuous</td>\n      <td>[0, 100]</td>\n      <td>Predictor</td>\n    </tr>\n    <tr>\n      <th>7</th>\n      <td>MSinceMostRecentInqexcl7days</td>\n      <td>Months since most recent inquiry excl. 7 days</td>\n      <td>Continuous</td>\n      <td>[0, 24]</td>\n      <td>Predictor</td>\n    </tr>\n    <tr>\n      <th>8</th>\n      <td>NetFractionRevolvingBurden</td>\n      <td>Net fraction revolving burden (= revolving bal...</td>\n      <td>Continuous</td>\n      <td>[0, 232]</td>\n      <td>Predictor</td>\n    </tr>\n    <tr>\n      <th>9</th>\n      <td>NumRevolvingTradesWBalance</td>\n      <td>Number of revolving trades with balance</td>\n      <td>Continuous</td>\n      <td>[0, 32]</td>\n      <td>Predictor</td>\n    </tr>\n    <tr>\n      <th>10</th>\n      <td>RiskPerformance</td>\n      <td>Paid as negotiated flag (12-36 Months). String...</td>\n      <td>Categorical</td>\n      <td>{0, 1}</td>\n      <td>Target</td>\n    </tr>\n  </tbody>\n</table>\n</div>"
     },
     "execution_count": 1,
     "metadata": {},
     "output_type": "execute_result"
    }
   ],
   "source": [
    "import pandas as pd\n",
    "df2 = pd.read_csv(\"ds_description.csv\")\n",
    "df2"
   ],
   "metadata": {
    "collapsed": false,
    "ExecuteTime": {
     "end_time": "2025-01-23T13:01:18.032115Z",
     "start_time": "2025-01-23T13:01:17.551819Z"
    }
   }
  }
 ],
 "metadata": {
  "kernelspec": {
   "display_name": "Python 3",
   "language": "python",
   "name": "python3"
  },
  "language_info": {
   "codemirror_mode": {
    "name": "ipython",
    "version": 2
   },
   "file_extension": ".py",
   "mimetype": "text/x-python",
   "name": "python",
   "nbconvert_exporter": "python",
   "pygments_lexer": "ipython2",
   "version": "2.7.6"
  }
 },
 "nbformat": 4,
 "nbformat_minor": 0
}
