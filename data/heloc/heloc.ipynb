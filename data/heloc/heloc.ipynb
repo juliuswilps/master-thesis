{
 "cells": [
  {
   "cell_type": "markdown",
   "source": [
    "Used in IGANN Paper (Case Study 2)\n",
    "\n",
    "See IGANN Appendix i:\n",
    "\"The dataset is taken from the FICO Explainable Machine Learning Challenge15. It contains 10,459 samples with 21 continuous features, two categorical features, and a binary target variable stating whether or not an individual defaulted on the loan\"\n",
    "\n",
    "The data contains anonymized credit applications of HELOC credit lines, which are a type of loan, collateralized by a customer’s property\n",
    "\n",
    "Appendix also highlights preprocessing (keep only 10 features + target)\n",
    "\n",
    "Link: https://www.kaggle.com/datasets/averkiyoliabev/home-equity-line-of-creditheloc\n"
   ],
   "metadata": {
    "collapsed": false
   }
  },
  {
   "cell_type": "markdown",
   "source": [
    "Model trained on raw dataset\n",
    "\n",
    "***GPT Analysis of \"MSinceMostRecentDelq (index = 8)***\n",
    "\n",
    "The feature **MSinceMostRecentDelq** (Months Since Most Recent Delinquency) reflects how long it has been since the borrower was last delinquent on a payment. In the context of loan approval, a higher value typically indicates more time has passed since the last delinquency, which is generally seen as a positive sign.\n",
    "\n",
    "Key domain knowledge contradictions in the shape function:\n",
    "\n",
    "1. **Negative values for recent delinquencies**: For values close to zero (e.g., the range \"(-9.0, -7.5)\" to \"(2.5, 5.5)\"), the function returns negative contributions, which is expected, as recent delinquencies are risky. However, the contributions get **worse** as delinquency becomes more recent, reaching a minimum at \"(-9.0, -7.5)\", which is inconsistent with the fact that it would be impossible to have a delinquency 9 months in the future.\n",
    "\n",
    "2. **Improving outcomes with very high values**: The contributions for MSinceMostRecentDelq increase significantly after 20 months (e.g., ranges like \"(30.5, 31.5)\" or higher). While it makes sense that outcomes improve with more time since the last delinquency, the large positive values beyond 60 months seem unrealistic. The shape function suggests **extreme optimism** for borrowers who have not had a delinquency for several years, even though such borrowers might still have other risk factors.\n",
    "\n",
    "3. **Inconsistent pattern near 70 months**: After 70 months, the contribution suddenly **drops** (e.g., \"(65.5, 66.5)\" to \"(73.5, 74.5)\"). This contradicts the expectation that as time since the last delinquency increases, the likelihood of loan repayment should consistently improve. This drop could indicate a flaw in the data or model.\n",
    "\n",
    "In summary, the model suggests extreme penalties for very recent delinquencies (including impossible values) and overly optimistic predictions for very old delinquencies. Additionally, the drop near 70 months is unexpected."
   ],
   "metadata": {
    "collapsed": false
   }
  },
  {
   "cell_type": "code",
   "execution_count": 2,
   "outputs": [],
   "source": [
    "import igann_helpers\n",
    "import pandas as pd\n",
    "\n",
    "dataset = igann_helpers.load_fico_data()\n",
    "X_df = dataset[\"full\"][\"X\"]\n",
    "X_df[\"RiskPerformance\"] = dataset[\"full\"][\"y\"]\n",
    "\n",
    "# X_df.to_csv(\"heloc_preprocessed.csv\", index=False)\n",
    "\n",
    "X_df"
   ],
   "metadata": {
    "collapsed": false,
    "ExecuteTime": {
     "end_time": "2025-01-23T13:10:57.434976Z",
     "start_time": "2025-01-23T13:10:56.570728Z"
    }
   }
  },
  {
   "cell_type": "code",
   "execution_count": null,
   "outputs": [],
   "source": [
    "simple_feature_names = [\"Overall Credit Risk Score\", \"Months Since First Credit Account\", \"Average Age of Credit Accounts\", \"Number of Well-Maintained Accounts\", \"Percentage of Accounts Never Late\",\n",
    "                            \"Months Since Last Missed Payment\", \"Percentage of Installment vs Revolving Loans\", \"Time Since Last Credit Application\", \"Credit Utilization Ratio\", \"Number of Active Credit Cards/Lines\", \"Loan Repaid\"]"
   ],
   "metadata": {
    "collapsed": false
   }
  },
  {
   "cell_type": "code",
   "execution_count": 4,
   "outputs": [
    {
     "name": "stdout",
     "output_type": "stream",
     "text": [
      "{'Column Name': 0             ExternalRiskEstimate\n",
      "1            MSinceOldestTradeOpen\n",
      "2                   AverageMInFile\n",
      "3            NumSatisfactoryTrades\n",
      "4           PercentTradesNeverDelq\n",
      "5             MSinceMostRecentDelq\n",
      "6             PercentInstallTrades\n",
      "7     MSinceMostRecentInqexcl7days\n",
      "8       NetFractionRevolvingBurden\n",
      "9       NumRevolvingTradesWBalance\n",
      "10                 RiskPerformance\n",
      "Name: Column Name, dtype: object, 'Description': 0                  Consolidated version of risk markers\n",
      "1                        Months since oldest trade open\n",
      "2                                Average months in file\n",
      "3                         Number of satisfactory trades\n",
      "4                 Percentage of trades never delinquent\n",
      "5                  Months since most recent delinquency\n",
      "6                      Percentage of installment trades\n",
      "7         Months since most recent inquiry excl. 7 days\n",
      "8     Net fraction revolving burden (= revolving bal...\n",
      "9               Number of revolving trades with balance\n",
      "10    Paid as negotiated flag (12-36 Months). String...\n",
      "Name: Description, dtype: object, 'Feature Type': 0      Continuous\n",
      "1      Continuous\n",
      "2      Continuous\n",
      "3      Continuous\n",
      "4      Continuous\n",
      "5      Continuous\n",
      "6      Continuous\n",
      "7      Continuous\n",
      "8      Continuous\n",
      "9      Continuous\n",
      "10    Categorical\n",
      "Name: Feature Type, dtype: object, 'Values': 0     [33, 94]\n",
      "1     [2, 803]\n",
      "2     [0, 383]\n",
      "3      [0, 79]\n",
      "4     [0, 100]\n",
      "5      [0, 83]\n",
      "6     [0, 100]\n",
      "7      [0, 24]\n",
      "8     [0, 232]\n",
      "9      [0, 32]\n",
      "10      {0, 1}\n",
      "Name: Values, dtype: object, 'Role': 0     Predictor\n",
      "1     Predictor\n",
      "2     Predictor\n",
      "3     Predictor\n",
      "4     Predictor\n",
      "5     Predictor\n",
      "6     Predictor\n",
      "7     Predictor\n",
      "8     Predictor\n",
      "9     Predictor\n",
      "10       Target\n",
      "Name: Role, dtype: object}\n"
     ]
    }
   ],
   "source": [
    "import pandas as pd\n",
    "df2 = pd.read_csv(\"ds_description.csv\")\n",
    "print(dict(df2))"
   ],
   "metadata": {
    "collapsed": false,
    "ExecuteTime": {
     "end_time": "2025-02-13T16:06:36.049413Z",
     "start_time": "2025-02-13T16:06:36.039104Z"
    }
   }
  },
  {
   "cell_type": "code",
   "execution_count": 16,
   "outputs": [],
   "source": [
    "import pandas as pd\n",
    "\n",
    "df = pd.read_csv(\"heloc_preprocessed.csv\")\n",
    "\n",
    "simple_feature_names = [\"Overall Credit Risk Score\", \"Months Since First Credit Account\", \"Average Age of Credit Accounts\", \"Number of Well-Maintained Accounts\", \"Percentage of Accounts Never Late\",\n",
    "                            \"Months Since Last Missed Payment\", \"Percentage of Installment vs Revolving Loans\", \"Time Since Last Credit Application\", \"Credit Utilization Ratio\", \"Number of Active Credit Cards/Lines\", \"Loan Repaid\"]\n",
    "\n",
    "df_simple = df.copy()\n",
    "df_simple.columns = simple_feature_names"
   ],
   "metadata": {
    "collapsed": false,
    "ExecuteTime": {
     "end_time": "2025-02-13T22:36:35.075620Z",
     "start_time": "2025-02-13T22:36:35.055956Z"
    }
   }
  },
  {
   "cell_type": "code",
   "execution_count": 19,
   "outputs": [
    {
     "data": {
      "text/html": "<!-- http://127.0.0.1:7001/140154032992608/ -->\n<iframe src=\"http://127.0.0.1:7001/140154032992608/\" width=100% height=800 frameBorder=\"0\"></iframe>"
     },
     "metadata": {},
     "output_type": "display_data"
    },
    {
     "data": {
      "text/plain": "['ebm_heloc.pkl']"
     },
     "execution_count": 19,
     "metadata": {},
     "output_type": "execute_result"
    }
   ],
   "source": [
    "from interpret.glassbox import ExplainableBoostingClassifier\n",
    "from interpret import show\n",
    "from sklearn.model_selection import train_test_split\n",
    "import joblib\n",
    "seed = 42\n",
    "\n",
    "y = df_simple[\"Loan Repaid\"]\n",
    "X = df_simple.drop(columns=\"Loan Repaid\")\n",
    "X_train, X_test, y_train, y_test = train_test_split(X, y, test_size=0.2, random_state=seed)\n",
    "\n",
    "test_data = X_test.copy()\n",
    "test_data[\"Loan Repaid\"] = y_test\n",
    "#test_data.to_csv(\"heloc_test.csv\", index=False)\n",
    "\n",
    "ebm_loan = ExplainableBoostingClassifier(random_state=seed, n_jobs=1)\n",
    "ebm_loan.fit(X_train, y_train)\n",
    "show(ebm_loan.explain_global())\n",
    "\n",
    "#joblib.dump(ebm_loan, \"ebm_heloc.pkl\")"
   ],
   "metadata": {
    "collapsed": false,
    "ExecuteTime": {
     "end_time": "2025-02-13T22:39:31.289950Z",
     "start_time": "2025-02-13T22:39:23.415126Z"
    }
   }
  },
  {
   "cell_type": "code",
   "execution_count": null,
   "outputs": [],
   "source": [],
   "metadata": {
    "collapsed": false
   }
  }
 ],
 "metadata": {
  "kernelspec": {
   "display_name": "Python 3",
   "language": "python",
   "name": "python3"
  },
  "language_info": {
   "codemirror_mode": {
    "name": "ipython",
    "version": 2
   },
   "file_extension": ".py",
   "mimetype": "text/x-python",
   "name": "python",
   "nbconvert_exporter": "python",
   "pygments_lexer": "ipython2",
   "version": "2.7.6"
  }
 },
 "nbformat": 4,
 "nbformat_minor": 0
}
