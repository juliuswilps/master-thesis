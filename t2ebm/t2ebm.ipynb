{
 "cells": [
  {
   "cell_type": "code",
   "execution_count": 1,
   "metadata": {
    "collapsed": true,
    "ExecuteTime": {
     "end_time": "2025-02-14T14:00:36.579127Z",
     "start_time": "2025-02-14T14:00:33.603269Z"
    }
   },
   "outputs": [
    {
     "data": {
      "text/plain": "['Overall Credit Risk Score',\n 'Months Since First Credit Account',\n 'Average Age of Credit Accounts',\n 'Number of Well-Maintained Accounts',\n 'Percentage of Accounts Never Late',\n 'Months Since Last Missed Payment',\n 'Percentage of Installment vs Revolving Loans',\n 'Time Since Last Credit Application',\n 'Credit Utilization Ratio',\n 'Number of Active Credit Cards/Lines']"
     },
     "execution_count": 1,
     "metadata": {},
     "output_type": "execute_result"
    }
   ],
   "source": [
    "import joblib\n",
    "from dotenv import load_dotenv\n",
    "load_dotenv()\n",
    "import t2ebm\n",
    "\n",
    "ebm = joblib.load(\"ebm_heloc.pkl\")\n",
    "ebm.feature_names_in_"
   ]
  },
  {
   "cell_type": "code",
   "execution_count": 3,
   "outputs": [
    {
     "data": {
      "text/plain": "'The graph for the \"Overall Credit Risk Score\" demonstrates a general upward trend in mean values as credit risk scores increase, transitioning from negative to positive outcomes. Notably, mean values dip from -0.673 to -0.7 between the intervals (53.5, 54.5) and (54.5, 55.5), which is counterintuitive as higher scores typically correlate with better outcomes. A significant transition occurs at the interval (72.0302, 72.5302), where the mean shifts from slightly negative at -0.064 to positive at 0.028, indicating a critical threshold effect. Beyond this point, the mean values continue to rise, suggesting that improvements in credit risk scores lead to increasingly favorable outcomes. The model appears particularly sensitive to changes in credit risk scores at higher ranges, with small increases resulting in substantial positive shifts. Overall, the graph highlights complex relationships between credit risk scores and their impacts, warranting further examination into the underlying data dynamics.'"
     },
     "execution_count": 3,
     "metadata": {},
     "output_type": "execute_result"
    }
   ],
   "source": [
    "t2ebm.describe_graph(\"gpt-4o-mini\", ebm, 0)"
   ],
   "metadata": {
    "collapsed": false,
    "ExecuteTime": {
     "end_time": "2025-02-14T15:47:10.837713Z",
     "start_time": "2025-02-14T15:46:45.666251Z"
    }
   }
  },
  {
   "cell_type": "code",
   "execution_count": 7,
   "outputs": [
    {
     "data": {
      "text/plain": "'The graph shows the effect of the \"Overall Credit Risk Score\" on the model\\'s prediction, with scores ranging from 50 to 93. Initially, lower scores (50 to around 63.5) have a negative impact, becoming more negative as the score decreases. Between scores of 53.5 to 55.5, there\\'s a surprising sharp dip in predicted impact, suggesting a more negative effect than adjacent scores. As scores increase from 64 onwards, the negative effect diminishes, transitioning to positive contributions starting around 72. Higher scores (above 72) show an increasing positive impact on the model\\'s prediction. The confidence intervals are wider at the extremes, indicating greater uncertainty in these regions. This pattern reflects the typical association of higher credit scores with more favorable model outcomes.'"
     },
     "execution_count": 7,
     "metadata": {},
     "output_type": "execute_result"
    }
   ],
   "source": [
    "t2ebm.describe_graph(\"gpt-4o\", ebm, 0)"
   ],
   "metadata": {
    "collapsed": false,
    "ExecuteTime": {
     "end_time": "2025-02-14T15:52:10.257725Z",
     "start_time": "2025-02-14T15:51:52.462538Z"
    }
   }
  },
  {
   "cell_type": "code",
   "execution_count": null,
   "outputs": [],
   "source": [],
   "metadata": {
    "collapsed": false
   }
  }
 ],
 "metadata": {
  "kernelspec": {
   "display_name": "Python 3",
   "language": "python",
   "name": "python3"
  },
  "language_info": {
   "codemirror_mode": {
    "name": "ipython",
    "version": 2
   },
   "file_extension": ".py",
   "mimetype": "text/x-python",
   "name": "python",
   "nbconvert_exporter": "python",
   "pygments_lexer": "ipython2",
   "version": "2.7.6"
  }
 },
 "nbformat": 4,
 "nbformat_minor": 0
}
