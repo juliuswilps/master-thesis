{
 "cells": [
  {
   "cell_type": "code",
   "execution_count": 1,
   "metadata": {
    "collapsed": true,
    "ExecuteTime": {
     "end_time": "2024-08-01T12:09:13.991436Z",
     "start_time": "2024-08-01T12:09:08.179334Z"
    }
   },
   "outputs": [],
   "source": [
    "from interpret.glassbox import ExplainableBoostingClassifier\n",
    "import numpy as np\n",
    "import openml\n",
    "import joblib\n",
    "import pandas as pd\n",
    "import gamchanger as gc\n",
    "from sklearn.model_selection import train_test_split\n",
    "from sklearn.metrics import accuracy_score\n",
    "from caafe import CAAFEClassifier\n",
    "import openai\n",
    "import caafe\n",
    "import pickle\n",
    "from caafe import data\n",
    "from caafe import preprocessing\n",
    "from interpret import show\n",
    "from tabpfn.scripts import tabular_metrics\n",
    "import os\n",
    "\n",
    "\n",
    "# TODO: Change key before sharing\n",
    "seed = 0\n",
    "\n",
    "import t2ebm\n",
    "import t2ebm.graphs as graphs"
   ]
  },
  {
   "cell_type": "code",
   "execution_count": 2,
   "outputs": [
    {
     "data": {
      "text/plain": "'\\nebm = ExplainableBoostingClassifier(random_state=seed, n_jobs=1)\\nebm.fit(X_train, y_train)\\n'"
     },
     "execution_count": 2,
     "metadata": {},
     "output_type": "execute_result"
    }
   ],
   "source": [
    "X_train = pd.read_csv(\"spaceship_train.csv\")\n",
    "y_train = X_train[\"Transported\"]\n",
    "del X_train[\"Transported\"]\n",
    "del X_train[\"PassengerId\"]\n",
    "\n",
    "\n",
    "X_test = pd.read_csv(\"spaceship_test.csv\")\n",
    "del X_test[\"PassengerId\"]\n",
    "y_test = pd.read_csv(\"sample_submission.csv\")\n",
    "del y_test[\"PassengerId\"]\n",
    "\n",
    "\n",
    "\"\"\"\n",
    "ebm = ExplainableBoostingClassifier(random_state=seed, n_jobs=1)\n",
    "ebm.fit(X_train, y_train)\n",
    "\"\"\""
   ],
   "metadata": {
    "collapsed": false,
    "ExecuteTime": {
     "end_time": "2024-08-01T12:09:14.062007Z",
     "start_time": "2024-08-01T12:09:13.994776Z"
    }
   }
  },
  {
   "cell_type": "code",
   "execution_count": 13,
   "outputs": [],
   "source": [
    "with open(\"ebm_spaceship.pkl\", \"rb\") as file:\n",
    "    ebm = pickle.load(file)"
   ],
   "metadata": {
    "collapsed": false,
    "ExecuteTime": {
     "end_time": "2024-08-01T14:59:22.859317Z",
     "start_time": "2024-08-01T14:59:22.736260Z"
    }
   }
  },
  {
   "cell_type": "code",
   "execution_count": 5,
   "outputs": [],
   "source": [
    "#t2ebm.describe_graph(\"gpt-4o\", ebm, 9)\n",
    "\n",
    "dataset_description = \"In this competition your task is to predict whether a passenger was transported to an alternate dimension during the Spaceship Titanic's collision with the spacetime anomaly. To help you make these predictions, you're given a set of personal records recovered from the ship's damaged computer system.\"\n",
    "\n",
    "y_axis_descripton = \"\"\"The y-axis depicts contributions in log-odds towards the probability\n",
    "that the passenger was transported to another dimension.\"\"\"\n",
    "\n",
    "t2ebm.describe_graph(\"gpt-4o\",\n",
    "                     ebm,\n",
    "                     0,\n",
    "                     dataset_description=dataset_description,\n",
    "                     graph_description=y_axis_descripton)"
   ],
   "metadata": {
    "collapsed": false,
    "ExecuteTime": {
     "end_time": "2024-07-26T18:01:48.312667Z",
     "start_time": "2024-07-26T18:01:48.299942Z"
    }
   }
  },
  {
   "cell_type": "code",
   "execution_count": 7,
   "outputs": [
    {
     "name": "stdout",
     "output_type": "stream",
     "text": [
      "INFO: The graph of feature Spa was simplified by 3.0%.\n",
      "This graph represents a continuous-valued feature. The keys are intervals that represent ranges where the function predicts the same value.\n",
      "\n",
      "Feature Name: Spa\n",
      "Feature Type: continuous\n",
      "Means: {\"(0.0, 49.5)\": 0.425, \"(49.5, 156.5)\": 0.236, \"(156.5, 240.5)\": 0.048, \"(240.5, 305.5)\": -0.154, \"(305.5, 436.5)\": -0.346, \"(436.5, 452.5)\": -0.546, \"(452.5, 571.0)\": -0.743, \"(571.0, 711.5)\": -0.932, \"(711.5, 930.0)\": -1.12, \"(930.0, 1343.5)\": -1.311, \"(1343.5, 1372.5)\": -1.676, \"(1372.5, 1557.0)\": -1.954, \"(1557.0, 1870.5)\": -2.142, \"(1870.5, 2462.5)\": -2.358, \"(2462.5, 2905.5)\": -2.795, \"(2905.5, 3214.0)\": -3.26, \"(3214.0, 4107.0)\": -4.308, \"(4107.0, 6697.5)\": -5.532, \"(6697.5, 22408.0)\": -5.72}\n",
      "Lower Bounds (95%-Confidence Interval): {\"(0.0, 49.5)\": 0.344, \"(49.5, 156.5)\": 0.166, \"(156.5, 240.5)\": -0.03, \"(240.5, 305.5)\": -0.277, \"(305.5, 436.5)\": -0.498, \"(436.5, 452.5)\": -1.026, \"(452.5, 571.0)\": -0.944, \"(571.0, 711.5)\": -1.052, \"(711.5, 930.0)\": -2.195, \"(930.0, 1343.5)\": -1.736, \"(1343.5, 1372.5)\": -2.642, \"(1372.5, 1557.0)\": -2.431, \"(1557.0, 1870.5)\": -2.395, \"(1870.5, 2462.5)\": -2.874, \"(2462.5, 2905.5)\": -3.379, \"(2905.5, 3214.0)\": -4.512, \"(3214.0, 4107.0)\": -5.036, \"(4107.0, 6697.5)\": -6.442, \"(6697.5, 22408.0)\": -6.617}\n",
      "Upper Bounds (95%-Confidence Interval): {\"(0.0, 49.5)\": 0.506, \"(49.5, 156.5)\": 0.307, \"(156.5, 240.5)\": 0.127, \"(240.5, 305.5)\": -0.031, \"(305.5, 436.5)\": -0.194, \"(436.5, 452.5)\": -0.066, \"(452.5, 571.0)\": -0.542, \"(571.0, 711.5)\": -0.812, \"(711.5, 930.0)\": -0.045, \"(930.0, 1343.5)\": -0.885, \"(1343.5, 1372.5)\": -0.711, \"(1372.5, 1557.0)\": -1.477, \"(1557.0, 1870.5)\": -1.89, \"(1870.5, 2462.5)\": -1.841, \"(2462.5, 2905.5)\": -2.211, \"(2905.5, 3214.0)\": -2.008, \"(3214.0, 4107.0)\": -3.58, \"(4107.0, 6697.5)\": -4.623, \"(6697.5, 22408.0)\": -4.823}\n",
      "\n"
     ]
    }
   ],
   "source": [
    "graph_spa = graphs.extract_graph(ebm, 9)\n",
    "graph_as_text_spa = graphs.graph_to_text(graph_spa, max_tokens=1000)\n",
    "print(graph_as_text_spa)"
   ],
   "metadata": {
    "collapsed": false,
    "ExecuteTime": {
     "end_time": "2024-07-26T18:02:41.800990Z",
     "start_time": "2024-07-26T18:02:41.018491Z"
    }
   }
  },
  {
   "cell_type": "code",
   "execution_count": 8,
   "outputs": [
    {
     "data": {
      "text/plain": "'This graph represents a continuous-valued feature. The keys are intervals that represent ranges where the function predicts the same value.\\n\\nFeature Name: Spa\\nFeature Type: continuous\\nMeans: {\"(0.0, 49.5)\": 0.425, \"(49.5, 156.5)\": 0.236, \"(156.5, 240.5)\": 0.048, \"(240.5, 305.5)\": -0.154, \"(305.5, 436.5)\": -0.346, \"(436.5, 452.5)\": -0.546, \"(452.5, 571.0)\": -0.743, \"(571.0, 711.5)\": -0.932, \"(711.5, 930.0)\": -1.12, \"(930.0, 1343.5)\": -1.311, \"(1343.5, 1372.5)\": -1.676, \"(1372.5, 1557.0)\": -1.954, \"(1557.0, 1870.5)\": -2.142, \"(1870.5, 2462.5)\": -2.358, \"(2462.5, 2905.5)\": -2.795, \"(2905.5, 3214.0)\": -3.26, \"(3214.0, 4107.0)\": -4.308, \"(4107.0, 6697.5)\": -5.532, \"(6697.5, 22408.0)\": -5.72}\\nLower Bounds (95%-Confidence Interval): {\"(0.0, 49.5)\": 0.344, \"(49.5, 156.5)\": 0.166, \"(156.5, 240.5)\": -0.03, \"(240.5, 305.5)\": -0.277, \"(305.5, 436.5)\": -0.498, \"(436.5, 452.5)\": -1.026, \"(452.5, 571.0)\": -0.944, \"(571.0, 711.5)\": -1.052, \"(711.5, 930.0)\": -2.195, \"(930.0, 1343.5)\": -1.736, \"(1343.5, 1372.5)\": -2.642, \"(1372.5, 1557.0)\": -2.431, \"(1557.0, 1870.5)\": -2.395, \"(1870.5, 2462.5)\": -2.874, \"(2462.5, 2905.5)\": -3.379, \"(2905.5, 3214.0)\": -4.512, \"(3214.0, 4107.0)\": -5.036, \"(4107.0, 6697.5)\": -6.442, \"(6697.5, 22408.0)\": -6.617}\\nUpper Bounds (95%-Confidence Interval): {\"(0.0, 49.5)\": 0.506, \"(49.5, 156.5)\": 0.307, \"(156.5, 240.5)\": 0.127, \"(240.5, 305.5)\": -0.031, \"(305.5, 436.5)\": -0.194, \"(436.5, 452.5)\": -0.066, \"(452.5, 571.0)\": -0.542, \"(571.0, 711.5)\": -0.812, \"(711.5, 930.0)\": -0.045, \"(930.0, 1343.5)\": -0.885, \"(1343.5, 1372.5)\": -0.711, \"(1372.5, 1557.0)\": -1.477, \"(1557.0, 1870.5)\": -1.89, \"(1870.5, 2462.5)\": -1.841, \"(2462.5, 2905.5)\": -2.211, \"(2905.5, 3214.0)\": -2.008, \"(3214.0, 4107.0)\": -3.58, \"(4107.0, 6697.5)\": -4.623, \"(6697.5, 22408.0)\": -4.823}\\n'"
     },
     "execution_count": 8,
     "metadata": {},
     "output_type": "execute_result"
    }
   ],
   "source": [
    "graph_as_text"
   ],
   "metadata": {
    "collapsed": false,
    "ExecuteTime": {
     "end_time": "2024-07-26T18:04:34.315037Z",
     "start_time": "2024-07-26T18:04:34.300583Z"
    }
   }
  },
  {
   "cell_type": "code",
   "execution_count": 10,
   "outputs": [],
   "source": [
    "graph_home = graphs.extract_graph(ebm, 0)\n",
    "graph_as_text_home = graphs.graph_to_text(graph_home)"
   ],
   "metadata": {
    "collapsed": false,
    "ExecuteTime": {
     "end_time": "2024-07-26T18:06:21.613108Z",
     "start_time": "2024-07-26T18:06:21.605957Z"
    }
   }
  },
  {
   "cell_type": "code",
   "execution_count": 11,
   "outputs": [
    {
     "data": {
      "text/plain": "'This graph represents categorical feature. Each key represents a possible value that the feature can take.\\n\\nFeature Name: HomePlanet\\nFeature Type: categorical\\nMeans: {\"Earth\": -0.3035, \"Europa\": 0.5757, \"Mars\": 0.1064}\\nLower Bounds (95%-Confidence Interval): {\"Earth\": -0.3229, \"Europa\": 0.5307, \"Mars\": 0.0669}\\nUpper Bounds (95%-Confidence Interval): {\"Earth\": -0.2842, \"Europa\": 0.6206, \"Mars\": 0.146}\\n'"
     },
     "execution_count": 11,
     "metadata": {},
     "output_type": "execute_result"
    }
   ],
   "source": [
    "graph_as_text_home"
   ],
   "metadata": {
    "collapsed": false,
    "ExecuteTime": {
     "end_time": "2024-07-26T18:06:26.567412Z",
     "start_time": "2024-07-26T18:06:26.552501Z"
    }
   }
  },
  {
   "cell_type": "code",
   "execution_count": 12,
   "outputs": [
    {
     "name": "stdout",
     "output_type": "stream",
     "text": [
      "This graph represents categorical feature. Each key represents a possible value that the feature can take.\n",
      "\n",
      "Feature Name: HomePlanet\n",
      "Feature Type: categorical\n",
      "Means: {\"Earth\": -0.3035, \"Europa\": 0.5757, \"Mars\": 0.1064}\n",
      "Lower Bounds (95%-Confidence Interval): {\"Earth\": -0.3229, \"Europa\": 0.5307, \"Mars\": 0.0669}\n",
      "Upper Bounds (95%-Confidence Interval): {\"Earth\": -0.2842, \"Europa\": 0.6206, \"Mars\": 0.146}\n",
      "\n"
     ]
    }
   ],
   "source": [
    "print(graph_as_text_home)"
   ],
   "metadata": {
    "collapsed": false,
    "ExecuteTime": {
     "end_time": "2024-07-26T18:06:42.294460Z",
     "start_time": "2024-07-26T18:06:42.281802Z"
    }
   }
  },
  {
   "cell_type": "code",
   "execution_count": null,
   "outputs": [],
   "source": [],
   "metadata": {
    "collapsed": false
   }
  }
 ],
 "metadata": {
  "kernelspec": {
   "display_name": "Python 3",
   "language": "python",
   "name": "python3"
  },
  "language_info": {
   "codemirror_mode": {
    "name": "ipython",
    "version": 2
   },
   "file_extension": ".py",
   "mimetype": "text/x-python",
   "name": "python",
   "nbconvert_exporter": "python",
   "pygments_lexer": "ipython2",
   "version": "2.7.6"
  }
 },
 "nbformat": 4,
 "nbformat_minor": 0
}
