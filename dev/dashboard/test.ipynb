{
 "cells": [
  {
   "cell_type": "code",
   "execution_count": 2,
   "metadata": {
    "collapsed": true,
    "ExecuteTime": {
     "end_time": "2025-02-24T20:51:02.964255Z",
     "start_time": "2025-02-24T20:51:01.967519Z"
    }
   },
   "outputs": [
    {
     "data": {
      "text/plain": "['Overall Credit Risk Score',\n 'Months Since First Credit Account',\n 'Average Age of Credit Accounts',\n 'Number of Well-Maintained Accounts',\n 'Percentage of Accounts Never Late',\n 'Months Since Last Missed Payment',\n 'Percentage of Installment vs Revolving Loans',\n 'Time Since Last Credit Application',\n 'Credit Utilization Ratio',\n 'Number of Active Credit Cards/Lines']"
     },
     "execution_count": 2,
     "metadata": {},
     "output_type": "execute_result"
    }
   ],
   "source": [
    "import joblib\n",
    "from interpret.glassbox._ebm._utils import convert_to_intervals\n",
    "from dotenv import load_dotenv\n",
    "import dashboard_helpers\n",
    "import matplotlib.pyplot as plt\n",
    "import numpy as np\n",
    "from loading_helpers import get_xy_vals, simplify_graph\n",
    "load_dotenv()\n",
    "\n",
    "%matplotlib inline\n",
    "ebm, ebm_data = dashboard_helpers.load_ebm_data(\"ebm-heloc.pkl\")\n",
    "\n",
    "print(len(ebm.term_scores_[0]))"
   ]
  },
  {
   "cell_type": "code",
   "execution_count": null,
   "outputs": [],
   "source": [
    "ebm.bins_"
   ],
   "metadata": {
    "collapsed": false
   }
  },
  {
   "cell_type": "code",
   "execution_count": 4,
   "outputs": [
    {
     "name": "stdout",
     "output_type": "stream",
     "text": [
      "44\n",
      "44\n"
     ]
    }
   ],
   "source": [
    "x_vals, y_vals =  get_xy_vals(ebm, 0)\n",
    "print(len(x_vals))\n",
    "print(len(y_vals))"
   ],
   "metadata": {
    "collapsed": false,
    "ExecuteTime": {
     "end_time": "2025-02-24T21:30:00.350495Z",
     "start_time": "2025-02-24T21:30:00.307703Z"
    }
   }
  },
  {
   "cell_type": "code",
   "execution_count": null,
   "outputs": [],
   "source": [],
   "metadata": {
    "collapsed": false
   }
  }
 ],
 "metadata": {
  "kernelspec": {
   "display_name": "Python 3",
   "language": "python",
   "name": "python3"
  },
  "language_info": {
   "codemirror_mode": {
    "name": "ipython",
    "version": 2
   },
   "file_extension": ".py",
   "mimetype": "text/x-python",
   "name": "python",
   "nbconvert_exporter": "python",
   "pygments_lexer": "ipython2",
   "version": "2.7.6"
  }
 },
 "nbformat": 4,
 "nbformat_minor": 0
}
