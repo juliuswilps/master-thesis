{
 "cells": [
  {
   "cell_type": "code",
   "execution_count": 9,
   "metadata": {
    "collapsed": true,
    "ExecuteTime": {
     "end_time": "2025-02-24T22:00:39.675103Z",
     "start_time": "2025-02-24T22:00:39.656387Z"
    }
   },
   "outputs": [],
   "source": [
    "import joblib\n",
    "from interpret.glassbox._ebm._utils import convert_to_intervals\n",
    "from dotenv import load_dotenv\n",
    "import dashboard_helpers\n",
    "import matplotlib.pyplot as plt\n",
    "import numpy as np\n",
    "from loading_helpers import get_x_vals, simplify_graph, interpolate_scores\n",
    "load_dotenv()\n",
    "\n",
    "%matplotlib inline\n",
    "ebm, ebm_data = dashboard_helpers.load_ebm_data(\"ebm-heloc.pkl\")"
   ]
  },
  {
   "cell_type": "code",
   "execution_count": 4,
   "outputs": [
    {
     "name": "stdout",
     "output_type": "stream",
     "text": [
      "18\n"
     ]
    }
   ],
   "source": [
    "from adjust_graph import adjust_graph_reasoning\n",
    "import data\n",
    "response = adjust_graph_reasoning(data.data_cards)\n",
    "print(len(data.data_cards[\"x_vals\"]))"
   ],
   "metadata": {
    "collapsed": false,
    "ExecuteTime": {
     "end_time": "2025-02-25T12:40:11.809244Z",
     "start_time": "2025-02-25T12:39:54.405080Z"
    }
   }
  },
  {
   "cell_type": "code",
   "execution_count": 5,
   "outputs": [
    {
     "data": {
      "text/plain": "\"adjusted_y_vals = [0.0437886000866321, 0.0950148801030437, 0.11993452670786084, 0.11993452670786084, 0.11993452670786084, 0.11993452670786084, 0.11993452670786084, 0.11993452670786084, 0.11993452670786084, 0.11993452670786084, 0.11993452670786084, 0.11993452670786084, 0.11993452670786084, 0.11993452670786084, 0.11993452670786084, 0.11993452670786084, 0.11993452670786084, 0.11993452670786084]\\nexplanation = 'The original shape function showed decreasing values with increasing number of credit lines, which contradicts the domain knowledge that more credit lines are associated with higher default risk. The y-values were adjusted to prevent decreases, ensuring a non-decreasing relationship.'\""
     },
     "execution_count": 5,
     "metadata": {},
     "output_type": "execute_result"
    }
   ],
   "source": [
    "response"
   ],
   "metadata": {
    "collapsed": false,
    "ExecuteTime": {
     "end_time": "2025-02-25T12:40:19.578664Z",
     "start_time": "2025-02-25T12:40:19.576076Z"
    }
   }
  },
  {
   "cell_type": "code",
   "execution_count": 6,
   "outputs": [
    {
     "data": {
      "text/plain": "18"
     },
     "execution_count": 6,
     "metadata": {},
     "output_type": "execute_result"
    }
   ],
   "source": [
    "adjusted_y_vals = [0.0437886000866321, 0.0950148801030437, 0.11993452670786084, 0.11993452670786084, 0.11993452670786084, 0.11993452670786084, 0.11993452670786084, 0.11993452670786084, 0.11993452670786084, 0.11993452670786084, 0.11993452670786084, 0.11993452670786084, 0.11993452670786084, 0.11993452670786084, 0.11993452670786084, 0.11993452670786084, 0.11993452670786084, 0.11993452670786084]\n",
    "len(adjusted_y_vals)"
   ],
   "metadata": {
    "collapsed": false,
    "ExecuteTime": {
     "end_time": "2025-02-25T12:40:49.969260Z",
     "start_time": "2025-02-25T12:40:49.963208Z"
    }
   }
  },
  {
   "cell_type": "code",
   "execution_count": 7,
   "outputs": [],
   "source": [
    "import re\n",
    "\n",
    "y_vals_match = re.search(r\"adjusted_y_vals\\s*=\\s*(\\[[^\\]]+\\])\", response)\n",
    "explanation_match = re.search(r\"explanation\\s*=\\s*'([^']*)'\", response)"
   ],
   "metadata": {
    "collapsed": false,
    "ExecuteTime": {
     "end_time": "2025-02-25T12:46:24.352275Z",
     "start_time": "2025-02-25T12:46:24.346993Z"
    }
   }
  },
  {
   "cell_type": "code",
   "execution_count": 14,
   "outputs": [
    {
     "name": "stdout",
     "output_type": "stream",
     "text": [
      "The original shape function showed decreasing values with increasing number of credit lines, which contradicts the domain knowledge that more credit lines are associated with higher default risk. The y-values were adjusted to prevent decreases, ensuring a non-decreasing relationship.\n"
     ]
    }
   ],
   "source": [
    "print(explanation_match.group(1))"
   ],
   "metadata": {
    "collapsed": false,
    "ExecuteTime": {
     "end_time": "2025-02-25T12:58:21.581730Z",
     "start_time": "2025-02-25T12:58:21.577263Z"
    }
   }
  },
  {
   "cell_type": "code",
   "execution_count": 16,
   "outputs": [
    {
     "data": {
      "text/plain": "18"
     },
     "execution_count": 16,
     "metadata": {},
     "output_type": "execute_result"
    }
   ],
   "source": [
    "import ast\n",
    "adjusted_y_vals = ast.literal_eval(y_vals_match.group(1))\n",
    "if not isinstance(adjusted_y_vals, list):\n",
    "    raise ValueError(\"Parsed adjusted_y_vals is not a list.\")\n",
    "\n",
    "len(adjusted_y_vals)"
   ],
   "metadata": {
    "collapsed": false,
    "ExecuteTime": {
     "end_time": "2025-02-25T12:59:15.179948Z",
     "start_time": "2025-02-25T12:59:15.174601Z"
    }
   }
  },
  {
   "cell_type": "code",
   "execution_count": null,
   "outputs": [],
   "source": [],
   "metadata": {
    "collapsed": false
   }
  }
 ],
 "metadata": {
  "kernelspec": {
   "display_name": "Python 3",
   "language": "python",
   "name": "python3"
  },
  "language_info": {
   "codemirror_mode": {
    "name": "ipython",
    "version": 2
   },
   "file_extension": ".py",
   "mimetype": "text/x-python",
   "name": "python",
   "nbconvert_exporter": "python",
   "pygments_lexer": "ipython2",
   "version": "2.7.6"
  }
 },
 "nbformat": 4,
 "nbformat_minor": 0
}
