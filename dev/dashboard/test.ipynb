{
 "cells": [
  {
   "cell_type": "code",
   "execution_count": 9,
   "metadata": {
    "collapsed": true,
    "ExecuteTime": {
     "end_time": "2025-02-24T22:00:39.675103Z",
     "start_time": "2025-02-24T22:00:39.656387Z"
    }
   },
   "outputs": [],
   "source": [
    "import joblib\n",
    "from interpret.glassbox._ebm._utils import convert_to_intervals\n",
    "from dotenv import load_dotenv\n",
    "import dashboard_helpers\n",
    "import matplotlib.pyplot as plt\n",
    "import numpy as np\n",
    "from loading_helpers import get_x_vals, simplify_graph, interpolate_scores\n",
    "load_dotenv()\n",
    "\n",
    "%matplotlib inline\n",
    "ebm, ebm_data = dashboard_helpers.load_ebm_data(\"ebm-heloc.pkl\")"
   ]
  },
  {
   "cell_type": "code",
   "execution_count": 7,
   "outputs": [
    {
     "name": "stdout",
     "output_type": "stream",
     "text": [
      "45\n",
      "45\n"
     ]
    }
   ],
   "source": [
    "x_vals = ebm_data[\"Overall Credit Risk Score\"][\"x_vals\"]\n",
    "y_vals = ebm_data[\"Overall Credit Risk Score\"][\"y_vals\"][0]\n",
    "print(len(x_vals))\n",
    "print(len(y_vals))"
   ],
   "metadata": {
    "collapsed": false,
    "ExecuteTime": {
     "end_time": "2025-02-24T21:59:26.346116Z",
     "start_time": "2025-02-24T21:59:26.341341Z"
    }
   }
  },
  {
   "cell_type": "code",
   "execution_count": 8,
   "outputs": [
    {
     "name": "stdout",
     "output_type": "stream",
     "text": [
      "44\n",
      "44\n"
     ]
    }
   ],
   "source": [
    "x_simple, y_simple = simplify_graph(x_vals, y_vals)\n",
    "print(len(x_simple))\n",
    "print(len(y_simple))"
   ],
   "metadata": {
    "collapsed": false,
    "ExecuteTime": {
     "end_time": "2025-02-24T22:00:25.076714Z",
     "start_time": "2025-02-24T22:00:25.071154Z"
    }
   }
  },
  {
   "cell_type": "code",
   "execution_count": 10,
   "outputs": [
    {
     "name": "stdout",
     "output_type": "stream",
     "text": [
      "45\n"
     ]
    }
   ],
   "source": [
    "inter_y = interpolate_scores(x_simple, y_simple, x_vals)\n",
    "print(len(inter_y))"
   ],
   "metadata": {
    "collapsed": false,
    "ExecuteTime": {
     "end_time": "2025-02-24T22:01:18.166208Z",
     "start_time": "2025-02-24T22:01:18.130899Z"
    }
   }
  },
  {
   "cell_type": "code",
   "execution_count": null,
   "outputs": [],
   "source": [],
   "metadata": {
    "collapsed": false
   }
  }
 ],
 "metadata": {
  "kernelspec": {
   "display_name": "Python 3",
   "language": "python",
   "name": "python3"
  },
  "language_info": {
   "codemirror_mode": {
    "name": "ipython",
    "version": 2
   },
   "file_extension": ".py",
   "mimetype": "text/x-python",
   "name": "python",
   "nbconvert_exporter": "python",
   "pygments_lexer": "ipython2",
   "version": "2.7.6"
  }
 },
 "nbformat": 4,
 "nbformat_minor": 0
}
