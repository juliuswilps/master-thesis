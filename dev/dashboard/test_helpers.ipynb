{
 "cells": [
  {
   "cell_type": "code",
   "execution_count": 1,
   "metadata": {
    "collapsed": true,
    "ExecuteTime": {
     "end_time": "2025-01-09T16:40:38.100851Z",
     "start_time": "2025-01-09T16:40:36.915665Z"
    }
   },
   "outputs": [],
   "source": [
    "import helpers\n",
    "ebm_data = helpers.load_ebm_data(\"../trained_ebm.pkl\")"
   ]
  },
  {
   "cell_type": "code",
   "execution_count": 2,
   "outputs": [],
   "source": [
    "import helpers\n",
    "from interpret import show\n",
    "updated_ebm = helpers.load_model(\"../updated_ebm.pkl\")"
   ],
   "metadata": {
    "collapsed": false,
    "ExecuteTime": {
     "end_time": "2025-01-09T16:40:43.525800Z",
     "start_time": "2025-01-09T16:40:43.513051Z"
    }
   }
  },
  {
   "cell_type": "code",
   "execution_count": 2,
   "outputs": [
    {
     "data": {
      "text/html": "<!-- http://127.0.0.1:7001/140496964716816/ -->\n<iframe src=\"http://127.0.0.1:7001/140496964716816/\" width=100% height=800 frameBorder=\"0\"></iframe>"
     },
     "metadata": {},
     "output_type": "display_data"
    }
   ],
   "source": [
    "import helpers\n",
    "from interpret import show\n",
    "ebm = helpers.load_model(\"../updated_ebm.pkl\")\n",
    "show(ebm.explain_global())"
   ],
   "metadata": {
    "collapsed": false,
    "ExecuteTime": {
     "end_time": "2025-01-15T21:24:42.385725Z",
     "start_time": "2025-01-15T21:24:41.575151Z"
    }
   }
  },
  {
   "cell_type": "code",
   "execution_count": 3,
   "outputs": [
    {
     "data": {
      "text/html": "<!-- http://127.0.0.1:7001/140440769439920/ -->\n<iframe src=\"http://127.0.0.1:7001/140440769439920/\" width=100% height=800 frameBorder=\"0\"></iframe>"
     },
     "metadata": {},
     "output_type": "display_data"
    }
   ],
   "source": [
    "show(updated_ebm.explain_global())"
   ],
   "metadata": {
    "collapsed": false,
    "ExecuteTime": {
     "end_time": "2025-01-09T16:40:50.394993Z",
     "start_time": "2025-01-09T16:40:49.950026Z"
    }
   }
  },
  {
   "cell_type": "code",
   "execution_count": 12,
   "outputs": [
    {
     "data": {
      "text/plain": "array([ 0.        , -9.79172542, -8.78941533, -7.79184658, -6.78866511,\n       -5.79283312, -4.79011128, -3.79072316, -2.79014776, -1.79144518,\n       -0.79372247,  0.21082704,  1.20891648,  2.20839762,  3.21115237,\n        4.20799474,  5.20810371,  6.20715089,  7.21100573,  8.20904816,\n        9.20798923, 10.20866302,  0.        ])"
     },
     "execution_count": 12,
     "metadata": {},
     "output_type": "execute_result"
    }
   ],
   "source": [
    "ebm.term_scores_[0]"
   ],
   "metadata": {
    "collapsed": false,
    "ExecuteTime": {
     "end_time": "2025-01-09T16:20:44.129065Z",
     "start_time": "2025-01-09T16:20:44.124162Z"
    }
   }
  },
  {
   "cell_type": "code",
   "execution_count": 16,
   "outputs": [
    {
     "data": {
      "text/plain": "['Cigarettes per Day', 'Age', 'Diet Quality']"
     },
     "execution_count": 16,
     "metadata": {},
     "output_type": "execute_result"
    }
   ],
   "source": [
    "updated_ebm.feature_names_in_"
   ],
   "metadata": {
    "collapsed": false,
    "ExecuteTime": {
     "end_time": "2025-01-09T16:35:12.839110Z",
     "start_time": "2025-01-09T16:35:12.834123Z"
    }
   }
  },
  {
   "cell_type": "code",
   "execution_count": 17,
   "outputs": [
    {
     "data": {
      "text/plain": "array([ 1.5,  0.5,  0.5,  0.5,  0.5,  0.5,  0.5,  0.5,  0.5,  0.5,  0.5,\n        0.5,  0.5,  0.5,  0.5,  0.5,  0.5,  0.5,  0.5,  0.5, -0.5])"
     },
     "execution_count": 17,
     "metadata": {},
     "output_type": "execute_result"
    }
   ],
   "source": [
    "updated_ebm.term_scores_[0]"
   ],
   "metadata": {
    "collapsed": false,
    "ExecuteTime": {
     "end_time": "2025-01-09T16:35:15.015233Z",
     "start_time": "2025-01-09T16:35:15.007749Z"
    }
   }
  },
  {
   "cell_type": "code",
   "execution_count": null,
   "outputs": [],
   "source": [],
   "metadata": {
    "collapsed": false
   }
  }
 ],
 "metadata": {
  "kernelspec": {
   "display_name": "Python 3",
   "language": "python",
   "name": "python3"
  },
  "language_info": {
   "codemirror_mode": {
    "name": "ipython",
    "version": 2
   },
   "file_extension": ".py",
   "mimetype": "text/x-python",
   "name": "python",
   "nbconvert_exporter": "python",
   "pygments_lexer": "ipython2",
   "version": "2.7.6"
  }
 },
 "nbformat": 4,
 "nbformat_minor": 0
}
