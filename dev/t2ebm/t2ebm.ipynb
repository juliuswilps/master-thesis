{
 "cells": [
  {
   "cell_type": "code",
   "execution_count": 155,
   "metadata": {
    "collapsed": true,
    "ExecuteTime": {
     "end_time": "2025-02-21T00:01:32.881002Z",
     "start_time": "2025-02-21T00:01:32.855183Z"
    }
   },
   "outputs": [],
   "source": [
    "import joblib\n",
    "from interpret.glassbox._ebm._utils import convert_to_intervals\n",
    "from dotenv import load_dotenv\n",
    "load_dotenv()\n",
    "import t2ebm\n",
    "\n",
    "ebm = joblib.load(\"ebm-heloc.pkl\")"
   ]
  },
  {
   "cell_type": "code",
   "execution_count": 183,
   "outputs": [
    {
     "data": {
      "text/plain": "142"
     },
     "execution_count": 183,
     "metadata": {},
     "output_type": "execute_result"
    }
   ],
   "source": [
    "x = [0.0556, 0.0088, 0.0078, 0.0, 0.4443, 0.0, 0.0, 0.0, 0.0, 0.0, 0.0, 0.0, 0.0, 0.0,\n",
    "    0.0, 0.0, 0.0, 0.0, 0.0, 0.0, 0.0, -0.250, -0.250, -0.250, -0.25, -0.25, -0.25,\n",
    "    -0.25, -0.25, -0.25, -0.25, -0.25, -0.25, -0.25, -0.25, -0.25, -0.25, -0.25,\n",
    "    -0.25, -0.25, -0.25, -0.25, 0.0, -0.25, -0.25, -0.25, -0.25, -0.2, -0.2, -0.2,\n",
    "    -0.2, -0.2, -0.2, -0.2, -0.1, -0.1, 0.0, 0.0, 0.0, 0.0, 0.0, 0.0, 0.0, 0.0,\n",
    "    0.0, 0.0, 0.0, 0.0, 0.0, 0.0, 0.0, 0.0, 0.0, 0.0, 0.0, 0.0, 0.0, 0.0, 0.0,\n",
    "    0.0, 0.0, 0.0, 0.0, 0.0, 0.0, 0.0, 0.0, 0.0, 0.0, 0.0, 0.0, 0.0, 0.0, 0.0,\n",
    "    0.0, 0.0, 0.0, 0.0, 0.0, 0.0, 0.0, 0.0, 0.0, 0.0, 0.0, 0.0, 0.0, 0.0, 0.0,\n",
    "    0.0, 0.0, 0.0, -0.225, -0.225, -0.225, -0.225, -0.2, -0.2, -0.2, -0.175, -0.175,\n",
    "    -0.175, 0.1, -0.225, -0.225, -0.225, -0.225, -0.175, -0.175, -0.175, -0.175, -0.175,\n",
    "    -0.175, -0.175, -0.175, -0.175, -0.175, -0.175, -0.175, -0.175, -0.175, -0.175]\n",
    "len(x)"
   ],
   "metadata": {
    "collapsed": false,
    "ExecuteTime": {
     "end_time": "2025-02-21T00:54:33.862290Z",
     "start_time": "2025-02-21T00:54:33.847757Z"
    }
   }
  },
  {
   "cell_type": "code",
   "execution_count": null,
   "outputs": [],
   "source": [],
   "metadata": {
    "collapsed": false
   }
  }
 ],
 "metadata": {
  "kernelspec": {
   "display_name": "Python 3",
   "language": "python",
   "name": "python3"
  },
  "language_info": {
   "codemirror_mode": {
    "name": "ipython",
    "version": 2
   },
   "file_extension": ".py",
   "mimetype": "text/x-python",
   "name": "python",
   "nbconvert_exporter": "python",
   "pygments_lexer": "ipython2",
   "version": "2.7.6"
  }
 },
 "nbformat": 4,
 "nbformat_minor": 0
}
