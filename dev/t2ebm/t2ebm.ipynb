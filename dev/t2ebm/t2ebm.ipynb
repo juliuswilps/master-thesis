{
 "cells": [
  {
   "cell_type": "code",
   "execution_count": 155,
   "metadata": {
    "collapsed": true,
    "ExecuteTime": {
     "end_time": "2025-02-21T00:01:32.881002Z",
     "start_time": "2025-02-21T00:01:32.855183Z"
    }
   },
   "outputs": [],
   "source": [
    "import joblib\n",
    "from interpret.glassbox._ebm._utils import convert_to_intervals\n",
    "from dotenv import load_dotenv\n",
    "load_dotenv()\n",
    "import t2ebm\n",
    "\n",
    "ebm = joblib.load(\"ebm-heloc.pkl\")"
   ]
  },
  {
   "cell_type": "code",
   "execution_count": 178,
   "outputs": [
    {
     "data": {
      "text/plain": "[0.25,\n 1.0,\n 2.0,\n 3.0,\n 3.7755275347400925,\n 4.301055069480185,\n 5.0255275347400925,\n 6.0,\n 7.0,\n 8.0,\n 9.0,\n 10.0,\n 11.0,\n 12.0,\n 13.0,\n 14.0,\n 15.0,\n 15.75]"
     },
     "execution_count": 178,
     "metadata": {},
     "output_type": "execute_result"
    }
   ],
   "source": [
    "graph = t2ebm.graphs.extract_graph(ebm, 9)\n",
    "x_values = [(interval[0] + interval[1]) / 2 for interval in graph.x_vals]\n",
    "x_values"
   ],
   "metadata": {
    "collapsed": false,
    "ExecuteTime": {
     "end_time": "2025-02-21T00:30:53.598915Z",
     "start_time": "2025-02-21T00:30:53.590275Z"
    }
   }
  },
  {
   "cell_type": "code",
   "execution_count": 182,
   "outputs": [
    {
     "name": "stdout",
     "output_type": "stream",
     "text": [
      "True\n"
     ]
    }
   ],
   "source": [
    "from dev.dashboard.loading_helpers import get_x_vals\n",
    "\n",
    "for idx in range(len(ebm.feature_names_in_)):\n",
    "        graph = t2ebm.graphs.extract_graph(ebm, idx)\n",
    "        x_values = [(interval[0] + interval[1]) / 2 for interval in graph.x_vals]\n",
    "\n",
    "        midpoints = get_x_vals(ebm, idx)\n",
    "\n",
    "        if x_values != midpoints:\n",
    "            print(False)  # Return False immediately if any comparison fails\n",
    "print(True)  # Return True only if all comparisons pass"
   ],
   "metadata": {
    "collapsed": false,
    "ExecuteTime": {
     "end_time": "2025-02-21T00:36:58.035982Z",
     "start_time": "2025-02-21T00:36:58.027703Z"
    }
   }
  },
  {
   "cell_type": "code",
   "execution_count": 180,
   "outputs": [
    {
     "data": {
      "text/plain": "True"
     },
     "execution_count": 180,
     "metadata": {},
     "output_type": "execute_result"
    }
   ],
   "source": [
    "x_values == midpoints"
   ],
   "metadata": {
    "collapsed": false,
    "ExecuteTime": {
     "end_time": "2025-02-21T00:32:52.761212Z",
     "start_time": "2025-02-21T00:32:52.748664Z"
    }
   }
  },
  {
   "cell_type": "code",
   "execution_count": null,
   "outputs": [],
   "source": [],
   "metadata": {
    "collapsed": false
   }
  }
 ],
 "metadata": {
  "kernelspec": {
   "display_name": "Python 3",
   "language": "python",
   "name": "python3"
  },
  "language_info": {
   "codemirror_mode": {
    "name": "ipython",
    "version": 2
   },
   "file_extension": ".py",
   "mimetype": "text/x-python",
   "name": "python",
   "nbconvert_exporter": "python",
   "pygments_lexer": "ipython2",
   "version": "2.7.6"
  }
 },
 "nbformat": 4,
 "nbformat_minor": 0
}
