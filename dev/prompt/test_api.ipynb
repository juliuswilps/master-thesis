{
 "cells": [
  {
   "cell_type": "code",
   "execution_count": 1,
   "metadata": {
    "collapsed": true,
    "ExecuteTime": {
     "end_time": "2024-11-13T10:53:05.562758Z",
     "start_time": "2024-11-13T10:53:04.922356Z"
    }
   },
   "outputs": [
    {
     "name": "stdout",
     "output_type": "stream",
     "text": [
      "API Key loaded successfully.\n"
     ]
    }
   ],
   "source": [
    "from openai import OpenAI\n",
    "from pydantic import BaseModel\n",
    "from load_api_key import load_openai_api_key\n",
    "\n",
    "key = load_openai_api_key()\n",
    "client = OpenAI(api_key=key)"
   ]
  },
  {
   "cell_type": "markdown",
   "source": [
    "API system setting inspo from caafe:\n",
    "    \"role\": \"system\",\n",
    "    \"content\": \"You are an expert datascientist assistant solving Kaggle problems. You answer only by generating code. Answer as concisely as possible.\","
   ],
   "metadata": {
    "collapsed": false
   }
  },
  {
   "cell_type": "markdown",
   "source": [
    "Idea: Can I pass the graph to the LLM directly?\n",
    "--> Retrieval Augmented Generation (https://help.openai.com/en/articles/8868588-retrieval-augmented-generation-rag-and-semantic-search-for-gpts)\n",
    "\n",
    "Idea: Fine-tune model for generation graph.\n",
    "Idea: Set system to {variable} expert.\n",
    "\n",
    "Structured Output to separate code from reasoning and have code in correct format."
   ],
   "metadata": {
    "collapsed": false
   }
  },
  {
   "cell_type": "markdown",
   "source": [
    "***Generating Code***"
   ],
   "metadata": {
    "collapsed": false
   }
  },
  {
   "cell_type": "code",
   "execution_count": 11,
   "outputs": [],
   "source": [
    "prompt = \"\"\"\n",
    "Please write a simple python program that asks the user for their name then greets them by printing to the terminal.\n",
    "\n",
    "Code formatting:\n",
    "```python\n",
    "# Explanation of the code\n",
    "(Some python code)\n",
    "```end\n",
    "\n",
    "Each codeblock starts with ```python and ends with ```end.\n",
    "Codeblock:\n",
    "\"\"\"\n",
    "\n",
    "messages = [\n",
    "    {\n",
    "        \"role\": \"system\",\n",
    "        \"content\": \"You are an experienced software developer.\"\n",
    "    },\n",
    "    {\n",
    "        \"role\": \"user\",\n",
    "        \"content\": prompt\n",
    "    }\n",
    "]"
   ],
   "metadata": {
    "collapsed": false,
    "ExecuteTime": {
     "end_time": "2024-11-13T13:02:19.705161Z",
     "start_time": "2024-11-13T13:02:19.702396Z"
    }
   }
  },
  {
   "cell_type": "code",
   "execution_count": 15,
   "outputs": [],
   "source": [
    "completion = client.chat.completions.create(\n",
    "    model=\"gpt-4o-mini\", # cheapest model\n",
    "    messages=messages,\n",
    "    stop=\"```end\"\n",
    ")\n",
    "code = completion.choices[0].message.content"
   ],
   "metadata": {
    "collapsed": false,
    "ExecuteTime": {
     "end_time": "2024-11-13T13:11:04.610459Z",
     "start_time": "2024-11-13T13:11:03.010139Z"
    }
   }
  },
  {
   "cell_type": "code",
   "execution_count": 16,
   "outputs": [],
   "source": [
    "code = code.replace(\"```python\\n\", \"\").replace(\"\\n```end\", \"\")"
   ],
   "metadata": {
    "collapsed": false,
    "ExecuteTime": {
     "end_time": "2024-11-13T13:13:21.217382Z",
     "start_time": "2024-11-13T13:13:21.212722Z"
    }
   }
  },
  {
   "cell_type": "code",
   "execution_count": 17,
   "outputs": [
    {
     "data": {
      "text/plain": "'# This program asks the user for their name and greets them\\n\\n# Asking for the user\\'s name\\nname = input(\"What is your name? \")\\n\\n# Greeting the user by name\\nprint(f\"Hello, {name}! Nice to meet you!\")'"
     },
     "execution_count": 17,
     "metadata": {},
     "output_type": "execute_result"
    }
   ],
   "source": [
    "code"
   ],
   "metadata": {
    "collapsed": false,
    "ExecuteTime": {
     "end_time": "2024-11-13T13:13:23.376910Z",
     "start_time": "2024-11-13T13:13:23.370800Z"
    }
   }
  },
  {
   "cell_type": "code",
   "execution_count": null,
   "outputs": [],
   "source": [
    "# This program asks the user for their name and greets them\\n\\n# Asking for the user\\'s name\\nname = input(\"What is your name? \")\\n\\n# Greeting the user by name\\nprint(f\"Hello, {name}! Nice to meet you!\")"
   ],
   "metadata": {
    "collapsed": false
   }
  }
 ],
 "metadata": {
  "kernelspec": {
   "display_name": "Python 3",
   "language": "python",
   "name": "python3"
  },
  "language_info": {
   "codemirror_mode": {
    "name": "ipython",
    "version": 2
   },
   "file_extension": ".py",
   "mimetype": "text/x-python",
   "name": "python",
   "nbconvert_exporter": "python",
   "pygments_lexer": "ipython2",
   "version": "2.7.6"
  }
 },
 "nbformat": 4,
 "nbformat_minor": 0
}
