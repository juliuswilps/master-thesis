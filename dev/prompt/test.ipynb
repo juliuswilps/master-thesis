{
 "cells": [
  {
   "cell_type": "code",
   "execution_count": 1,
   "metadata": {
    "collapsed": true,
    "ExecuteTime": {
     "end_time": "2024-11-13T22:11:40.994660Z",
     "start_time": "2024-11-13T22:11:36.964249Z"
    }
   },
   "outputs": [
    {
     "name": "stdout",
     "output_type": "stream",
     "text": [
      "API Key loaded successfully.\n"
     ]
    }
   ],
   "source": [
    "from load_api_key import load_openai_api_key\n",
    "key = load_openai_api_key()\n",
    "from prompt_helpers import get_prompt, generate_code, run_llm_code\n",
    "from interpret.glassbox import ExplainableBoostingClassifier, ExplainableBoostingRegressor\n",
    "import joblib\n",
    "import t2ebm.graphs as graphs\n",
    "from openai import OpenAI\n",
    "\n",
    "\n",
    "\n",
    "ebm = joblib.load(\"../trained_ebm.pkl\")\n",
    "graph = graphs.extract_graph(ebm, 0)"
   ]
  },
  {
   "cell_type": "code",
   "execution_count": 2,
   "outputs": [
    {
     "name": "stdout",
     "output_type": "stream",
     "text": [
      "\n",
      "    The Explainable Boosting Machine (EBM) shape function graph for a specific feature is loaded as the `EBMGraph` object.\n",
      "\n",
      "    Feature analyzed: \"Cigarettes per Day\" (Type: continuous).\n",
      "\n",
      "    x-values and corresponding shape scores represent the relationship between this feature and the target:\n",
      "    - X-values (ranges or categories): [(0.0, 0.5), (0.5, 1.5), (1.5, 2.5), (2.5, 3.5), (3.5, 4.5), (4.5, 5.5), (5.5, 6.5), (6.5, 7.5), (7.5, 8.5), (8.5, 9.5), (9.5, 10.5), (10.5, 11.5), (11.5, 12.5), (12.5, 13.5), (13.5, 14.5), (14.5, 15.5), (15.5, 16.5), (16.5, 17.5), (17.5, 18.5), (18.5, 19.5), (19.5, 20.0)]\n",
      "    - Shape function scores: [-9.79172542 -8.78941533 -7.79184658 -6.78866511 -5.79283312 -4.79011128\n",
      " -3.79072316 -2.79014776 -1.79144518 -0.79372247  0.21082704  1.20891648\n",
      "  2.20839762  3.21115237  4.20799474  5.20810371  6.20715089  7.21100573\n",
      "  8.20904816  9.20798923 10.20866302]\n",
      "    - Standard deviations (uncertainty at each x-value): [0.00326436 0.00400482 0.00550522 0.00585849 0.00503456 0.00413525\n",
      " 0.00646556 0.00563769 0.00535804 0.00616323 0.00660323 0.0082456\n",
      " 0.00536074 0.00589369 0.00447358 0.01093564 0.00453815 0.00499341\n",
      " 0.00336892 0.00317248 0.00389344]\n",
      "\n",
      "    Dataset description for context:\n",
      "    \"None\"\n",
      "\n",
      "    Task:\n",
      "    1. Identify the **single most significant anomaly** in the shape function scores for this feature. The anomaly should be based on domain expectations (e.g., smooth score progression for numeric features, logical ordering for categorical features).\n",
      "    2. Explain why this anomaly may affect interpretability or predictive accuracy if left unaddressed.\n",
      "    3. Provide a code snippet to correct this specific anomaly in the `EBMGraph.scores` list, modifying only the values needed for this correction.\n",
      "\n",
      "    Examples of common anomalies to prioritize:\n",
      "    - For numeric features: A sudden score jump without domain basis, suggesting a lack of smoothness in the progression.\n",
      "    - For categorical features: Score inconsistencies between categories that defy logical or domain expectations.\n",
      "    - Large deviations in shape scores that correlate with high standard deviations, indicating unreliable scores needing adjustment.\n",
      "\n",
      "    Code format for correction:\n",
      "    ```python\n",
      "    # (Brief description of the identified anomaly in \"Cigarettes per Day\")\n",
      "    # Correction rationale: (Explanation for the change based on domain knowledge.)\n",
      "    # Corrective code:\n",
      "    for i, (x_val, score) in enumerate(zip([(0.0, 0.5), (0.5, 1.5), (1.5, 2.5), (2.5, 3.5), (3.5, 4.5), (4.5, 5.5), (5.5, 6.5), (6.5, 7.5), (7.5, 8.5), (8.5, 9.5), (9.5, 10.5), (10.5, 11.5), (11.5, 12.5), (12.5, 13.5), (13.5, 14.5), (14.5, 15.5), (15.5, 16.5), (16.5, 17.5), (17.5, 18.5), (18.5, 19.5), (19.5, 20.0)], [-9.79172542 -8.78941533 -7.79184658 -6.78866511 -5.79283312 -4.79011128\n",
      " -3.79072316 -2.79014776 -1.79144518 -0.79372247  0.21082704  1.20891648\n",
      "  2.20839762  3.21115237  4.20799474  5.20810371  6.20715089  7.21100573\n",
      "  8.20904816  9.20798923 10.20866302])):\n",
      "        if some_condition:  (Define condition for the identified anomaly)\n",
      "            ebm_graph.scores[i] = new_score_value  # Define the correction\n",
      "    ```end\n",
      "\n",
      "    Each codeblock should only address **one significant anomaly** and suggest the simplest adjustment necessary to address it.\n",
      "    Codeblock:\n",
      "    \n"
     ]
    }
   ],
   "source": [
    "prompt = get_prompt(graph)\n",
    "print(prompt)"
   ],
   "metadata": {
    "collapsed": false,
    "ExecuteTime": {
     "end_time": "2024-11-13T22:11:41.003083Z",
     "start_time": "2024-11-13T22:11:40.998848Z"
    }
   }
  },
  {
   "cell_type": "code",
   "execution_count": 3,
   "outputs": [
    {
     "data": {
      "text/plain": "\"\\n# The identified anomaly is a sudden score jump from 9.20798923 to 10.20866302 between x-values (19.5, 20.0) and the previous score (9.20798923).\\n# Correction rationale: This jump is inconsistent with the expected smooth progression of scores for a continuous feature, suggesting a lack of continuity in the model's output.\\n# Corrective code:\\nfor i, (x_val, score) in enumerate(zip([(0.0, 0.5), (0.5, 1.5), (1.5, 2.5), (2.5, 3.5), (3.5, 4.5), (4.5, 5.5), (5.5, 6.5), (6.5, 7.5), (7.5, 8.5), (8.5, 9.5), (9.5, 10.5), (10.5, 11.5), (11.5, 12.5), (12.5, 13.5), (13.5, 14.5), (14.5, 15.5), (15.5, 16.5), (16.5, 17.5), (17.5, 18.5), (18.5, 19.5), (19.5, 20.0)], [-9.79172542, -8.78941533, -7.79184658, -6.78866511, -5.79283312, -4.79011128, -3.79072316, -2.79014776, -1.79144518, -0.79372247, 0.21082704, 1.20891648, 2.20839762, 3.21115237, 4.20799474, 5.20810371, 6.20715089, 7.21100573, 8.20904816, 9.20798923, 10.20866302])):\\n    if i == 19:  # Condition for the identified anomaly\\n        ebm_graph.scores[i] = 9.70798923  # Adjusted to create a smoother transition\\n\""
     },
     "execution_count": 3,
     "metadata": {},
     "output_type": "execute_result"
    }
   ],
   "source": [
    "messages = [\n",
    "    {\n",
    "        \"role\": \"system\",\n",
    "        \"content\": \"You are an expert datascientist assistant solving Kaggle problems. You answer only by generating code. Answer as concisely as possible.\",\n",
    "    },\n",
    "    {\n",
    "        \"role\": \"user\",\n",
    "        \"content\": prompt,\n",
    "    },\n",
    "]\n",
    "client = OpenAI(api_key=key)\n",
    "\n",
    "code = generate_code(messages, client)\n",
    "code"
   ],
   "metadata": {
    "collapsed": false,
    "ExecuteTime": {
     "end_time": "2024-11-13T22:11:51.671532Z",
     "start_time": "2024-11-13T22:11:41.004195Z"
    }
   }
  },
  {
   "cell_type": "code",
   "execution_count": 4,
   "outputs": [
    {
     "name": "stdout",
     "output_type": "stream",
     "text": [
      "\n",
      "# The identified anomaly is a sudden score jump from 9.20798923 to 10.20866302 between x-values (19.5, 20.0) and the previous score (9.20798923).\n",
      "# Correction rationale: This jump is inconsistent with the expected smooth progression of scores for a continuous feature, suggesting a lack of continuity in the model's output.\n",
      "# Corrective code:\n",
      "for i, (x_val, score) in enumerate(zip([(0.0, 0.5), (0.5, 1.5), (1.5, 2.5), (2.5, 3.5), (3.5, 4.5), (4.5, 5.5), (5.5, 6.5), (6.5, 7.5), (7.5, 8.5), (8.5, 9.5), (9.5, 10.5), (10.5, 11.5), (11.5, 12.5), (12.5, 13.5), (13.5, 14.5), (14.5, 15.5), (15.5, 16.5), (16.5, 17.5), (17.5, 18.5), (18.5, 19.5), (19.5, 20.0)], [-9.79172542, -8.78941533, -7.79184658, -6.78866511, -5.79283312, -4.79011128, -3.79072316, -2.79014776, -1.79144518, -0.79372247, 0.21082704, 1.20891648, 2.20839762, 3.21115237, 4.20799474, 5.20810371, 6.20715089, 7.21100573, 8.20904816, 9.20798923, 10.20866302])):\n",
      "    if i == 19:  # Condition for the identified anomaly\n",
      "        ebm_graph.scores[i] = 9.70798923  # Adjusted to create a smoother transition\n",
      "\n"
     ]
    }
   ],
   "source": [
    "print(code)"
   ],
   "metadata": {
    "collapsed": false,
    "ExecuteTime": {
     "end_time": "2024-11-13T22:11:51.695644Z",
     "start_time": "2024-11-13T22:11:51.670941Z"
    }
   }
  },
  {
   "cell_type": "code",
   "execution_count": 8,
   "outputs": [],
   "source": [
    "new_graph = run_llm_code(code, graph)"
   ],
   "metadata": {
    "collapsed": false,
    "ExecuteTime": {
     "end_time": "2024-11-13T22:12:20.760524Z",
     "start_time": "2024-11-13T22:12:20.756460Z"
    }
   }
  },
  {
   "cell_type": "code",
   "execution_count": 14,
   "outputs": [
    {
     "data": {
      "text/plain": "9.207989232671853"
     },
     "execution_count": 14,
     "metadata": {},
     "output_type": "execute_result"
    }
   ],
   "source": [
    "graph.scores[-2]"
   ],
   "metadata": {
    "collapsed": false,
    "ExecuteTime": {
     "end_time": "2024-11-13T22:14:37.350338Z",
     "start_time": "2024-11-13T22:14:37.344698Z"
    }
   }
  },
  {
   "cell_type": "code",
   "execution_count": 15,
   "outputs": [
    {
     "data": {
      "text/plain": "9.70798923"
     },
     "execution_count": 15,
     "metadata": {},
     "output_type": "execute_result"
    }
   ],
   "source": [
    "new_graph.scores[-2]"
   ],
   "metadata": {
    "collapsed": false,
    "ExecuteTime": {
     "end_time": "2024-11-13T22:14:41.627405Z",
     "start_time": "2024-11-13T22:14:41.619071Z"
    }
   }
  },
  {
   "cell_type": "code",
   "execution_count": null,
   "outputs": [],
   "source": [],
   "metadata": {
    "collapsed": false
   }
  }
 ],
 "metadata": {
  "kernelspec": {
   "display_name": "Python 3",
   "language": "python",
   "name": "python3"
  },
  "language_info": {
   "codemirror_mode": {
    "name": "ipython",
    "version": 2
   },
   "file_extension": ".py",
   "mimetype": "text/x-python",
   "name": "python",
   "nbconvert_exporter": "python",
   "pygments_lexer": "ipython2",
   "version": "2.7.6"
  }
 },
 "nbformat": 4,
 "nbformat_minor": 0
}
